{
 "cells": [
  {
   "cell_type": "markdown",
   "id": "90d8f509",
   "metadata": {},
   "source": [
    "# Project \n",
    "## streamlit tutorial "
   ]
  },
  {
   "cell_type": "markdown",
   "id": "a9fc552e",
   "metadata": {},
   "source": [
    "### basic streamlit \n",
    "- là nơi model deployment \n",
    "- steamlit is an open source python framework for data scientists and AI/ML engineers to deliver dynamic data apps with only a few lines of code \n",
    "- build and deploy powerful data apps in minutes "
   ]
  },
  {
   "cell_type": "markdown",
   "id": "c932f150",
   "metadata": {},
   "source": [
    "## word correction "
   ]
  },
  {
   "cell_type": "markdown",
   "id": "fe401d7b",
   "metadata": {},
   "source": [
    "## object detection "
   ]
  }
 ],
 "metadata": {
  "kernelspec": {
   "display_name": "Python (myenv)",
   "language": "python",
   "name": "myenv"
  },
  "language_info": {
   "name": "python",
   "version": "3.13.2"
  }
 },
 "nbformat": 4,
 "nbformat_minor": 5
}
