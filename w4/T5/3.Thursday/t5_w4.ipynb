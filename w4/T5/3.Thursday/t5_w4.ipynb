{
 "cells": [
  {
   "cell_type": "markdown",
   "id": "9f99c9ad",
   "metadata": {},
   "source": [
    "# regression and variants "
   ]
  }
 ],
 "metadata": {
  "language_info": {
   "name": "python"
  }
 },
 "nbformat": 4,
 "nbformat_minor": 5
}
