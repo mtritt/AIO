{
 "cells": [
  {
   "cell_type": "markdown",
   "id": "fdee90af",
   "metadata": {},
   "source": [
    "# review \n",
    "- tuples \n",
    "- list \n",
    "- 2D list "
   ]
  },
  {
   "cell_type": "markdown",
   "id": "5dd0ac7d",
   "metadata": {},
   "source": [
    "- numpy array : \n",
    "+ homogeneous data : đồng nhất dữ liệu\n",
    "+ fixed type data \n",
    "+ contiguous data\n",
    "+ performance  \n"
   ]
  },
  {
   "cell_type": "code",
   "execution_count": null,
   "id": "cefbbf8b",
   "metadata": {},
   "outputs": [],
   "source": [
    "# list can have many type data \n",
    "# numpy array must have one type data \n",
    "import time \n",
    "import numpy as np\n",
    "array = np.array[1 , 2 , 3 , 4]\n",
    "list = ['tri' , 25, 2006 , 'minh']"
   ]
  },
  {
   "cell_type": "markdown",
   "id": "6a3118a7",
   "metadata": {},
   "source": [
    "# IoU calculation using tuples \n",
    "- use bouding box need coordinates "
   ]
  }
 ],
 "metadata": {
  "kernelspec": {
   "display_name": "Python (myenv)",
   "language": "python",
   "name": "myenv"
  },
  "language_info": {
   "name": "python",
   "version": "3.13.2"
  }
 },
 "nbformat": 4,
 "nbformat_minor": 5
}
