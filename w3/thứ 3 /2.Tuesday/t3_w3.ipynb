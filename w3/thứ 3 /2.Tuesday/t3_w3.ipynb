{
 "cells": [
  {
   "cell_type": "markdown",
   "id": "fb5f97e1",
   "metadata": {},
   "source": [
    "# tuesday week 3 : classes and objects "
   ]
  },
  {
   "cell_type": "code",
   "execution_count": 41,
   "id": "62d809bb",
   "metadata": {},
   "outputs": [
    {
     "name": "stdout",
     "output_type": "stream",
     "text": [
      "4\n",
      "<__main__.Square object at 0x10c7ba660>\n",
      "25\n"
     ]
    }
   ],
   "source": [
    "# procedural programing : lập trình hướng thủ tục \n",
    "# init class \n",
    "# the self keyword must always be the first parameter in each method \n",
    "class Square : \n",
    "    # default have init \n",
    "    def __init__ (self , side) :\n",
    "        self.side = side \n",
    "\n",
    "    def calculate_area(self) : \n",
    "        return self.side * self.side \n",
    "\n",
    "    def calculate_perimeter(self) : \n",
    "        print(f\"perimeter of the square : {self.side * 4}\")\n",
    "\n",
    "\n",
    "my_square = Square(4) \n",
    "print(my_square.side)\n",
    "my_area = my_square.calculate_area()\n",
    "print(my_square)\n",
    "\n",
    "\n",
    "# constructer \n",
    "# we can certainly replace \"self\" variable with another word \n",
    "# call function \n",
    "class Square : \n",
    "    def __init__ (self , side) : \n",
    "        self.side = side \n",
    "\n",
    "    def __call__ (self) : \n",
    "        return self.side * self.side \n",
    "    \n",
    "# function must have \"()\"\n",
    "# call function not must have \".\" as method , it's can be \".\" or not \n",
    "sq = Square(5)\n",
    "print(sq()) \n",
    "\n",
    "\n"
   ]
  },
  {
   "cell_type": "markdown",
   "id": "2f0e15d3",
   "metadata": {},
   "source": [
    "# naming conventions \n",
    "- viết hoa chữ cái đầu tiên \n",
    "- nếu có nhiều chữ cái thì sử dụng dấu \"_\"\n",
    "- đối với class thì viết hoa mỗi chữ cái đầu tiên \n",
    "- tên hàm thường bắt đầu bằng động từ "
   ]
  },
  {
   "cell_type": "markdown",
   "id": "a377b04e",
   "metadata": {},
   "source": [
    "# in python , everything is object "
   ]
  },
  {
   "cell_type": "code",
   "execution_count": 42,
   "id": "b788ccd3",
   "metadata": {},
   "outputs": [
    {
     "name": "stdout",
     "output_type": "stream",
     "text": [
      "14/10/2025\n"
     ]
    },
    {
     "ename": "TypeError",
     "evalue": "'Person' object is not callable",
     "output_type": "error",
     "traceback": [
      "\u001b[31m---------------------------------------------------------------------------\u001b[39m",
      "\u001b[31mTypeError\u001b[39m                                 Traceback (most recent call last)",
      "\u001b[36mCell\u001b[39m\u001b[36m \u001b[39m\u001b[32mIn[42]\u001b[39m\u001b[32m, line 22\u001b[39m\n\u001b[32m     19\u001b[39m         \u001b[38;5;28;01mreturn\u001b[39;00m \u001b[33mf\u001b[39m\u001b[33m\"\u001b[39m\u001b[38;5;132;01m{\u001b[39;00m\u001b[38;5;28mself\u001b[39m.name\u001b[38;5;132;01m}\u001b[39;00m\u001b[33m - \u001b[39m\u001b[38;5;132;01m{\u001b[39;00m\u001b[38;5;28mself\u001b[39m.birth()\u001b[38;5;132;01m}\u001b[39;00m\u001b[33m\"\u001b[39m\n\u001b[32m     21\u001b[39m per1 = Person(\u001b[33m\"\u001b[39m\u001b[33mTri\u001b[39m\u001b[33m\"\u001b[39m , today) \n\u001b[32m---> \u001b[39m\u001b[32m22\u001b[39m \u001b[38;5;28mprint\u001b[39m(\u001b[43mper1\u001b[49m\u001b[43m(\u001b[49m\u001b[43m)\u001b[49m)\n",
      "\u001b[31mTypeError\u001b[39m: 'Person' object is not callable"
     ]
    }
   ],
   "source": [
    "class Date : \n",
    "    def __init__ (self , day , month , year) : \n",
    "        self.day = day \n",
    "        self.month = month \n",
    "        self.year = year \n",
    "\n",
    "    def __call__(self) : \n",
    "        return f\"{self.day}/{self.month}/{self.year}\"\n",
    "\n",
    "today = Date(14 , 10 , 2025)\n",
    "print(today())\n",
    "\n",
    "class Person : \n",
    "    def __init__(self , name , birth) : \n",
    "        self.name = name \n",
    "        self.birth = birth \n",
    "    \n",
    "    def __call___(self) : \n",
    "        return f\"{self.name} - {self.birth()}\"\n",
    "\n",
    "per1 = Person(\"Tri\" , today) \n",
    "print(per1())"
   ]
  },
  {
   "cell_type": "code",
   "execution_count": null,
   "id": "6c6b7673",
   "metadata": {},
   "outputs": [],
   "source": [
    "# lists and classes \n",
    "list = [1 , 5 , 6, 4 ,3 ,2 ,7]\n",
    "class Square : \n",
    "    def __init__(self , side) : \n",
    "        self.side = side \n",
    "    def describe(self): \n",
    "        print(f\"Side is {self.side}\")\n",
    "\n",
    "s1 = Square(4) \n",
    "s2 = Square(3) \n",
    "s3 = Square(7) \n",
    "s4 = Square(5) \n",
    "list_squares = [s1 , s2 , s3 , s4]\n",
    "\n",
    "for sq in list_squares : \n",
    "    sq.describe()\n",
    "\n",
    "# list_squares.sort() \n",
    "# appoarch 1 \n",
    "print(list_squares.sort(key = lambda x : x.side))\n",
    "\n",
    "# appoarch 2 \n",
    "def criteron(x) : \n",
    "    return x.side\n",
    "print(list_squares.sort(key = criteron))\n"
   ]
  },
  {
   "cell_type": "markdown",
   "id": "bad5e5ec",
   "metadata": {},
   "source": [
    "# inheritance \n",
    "- motivation : common value \n",
    "- inheritance is a mechanism in object - oriented programing (OOP) that allows a new class to inherit the attributes and methods of an existing class "
   ]
  },
  {
   "cell_type": "code",
   "execution_count": null,
   "id": "34865621",
   "metadata": {},
   "outputs": [],
   "source": [
    "class Animal : \n",
    "    def __init__(self , name) : \n",
    "        self.name = name \n",
    "\n",
    "    def make_sound(self) : \n",
    "        print(\"gau gau\")\n",
    "\n",
    "class Cat(Animal) : \n",
    "    def __init__(self , name , breed) :\n",
    "        super().__init__()\n",
    "        self.name = name \n",
    "        self.breed = breed \n",
    "\n",
    "cat = Cat('Minh' ,'nam')\n",
    "cat.make_sound()\n"
   ]
  },
  {
   "cell_type": "markdown",
   "id": "09146420",
   "metadata": {},
   "source": [
    "# access modifiers\n",
    "- public data : accessible anywhere from outside \n",
    "- private data : accessible within the class \n",
    "- protected data : accessible within the class and its sub-classes"
   ]
  },
  {
   "cell_type": "code",
   "execution_count": null,
   "id": "38882a9f",
   "metadata": {},
   "outputs": [],
   "source": [
    "# private : add \"__\" front method or attributes\n",
    "class Cat(Animal) :\n",
    "    def __init__(self , name , color , breed): \n",
    "        super().__init__(name , color) \n",
    "        self.name = name \n",
    "        self.breed = breed # public \n",
    "        self.__bread = breed # private \n",
    "        self._color = color \n",
    "\n",
    "    # lấy thông tin từ tt private \n",
    "    def get_breed(self) : \n",
    "        return self.__bread \n",
    "    \n",
    "    def set_breed(self , new_breed) : \n",
    "        self.__breed = new_breed \n",
    "\n",
    "    def __make_sound(self) : \n",
    "        print(\"tri do\")\n",
    "\n",
    "    def show_info(self) : \n",
    "        print(f\"{self.name} , {self.color} , {self.breed}\")\n",
    "\n",
    "my_cat = Cat(\"do tri\" ,'nam')\n",
    "print(my_cat.name)\n",
    "print(my_cat.breed)\n",
    "my_cat.make_sound()\n",
    "\n",
    "print(my_cat.get_breed())\n",
    "\n",
    "\n",
    "# protected \n",
    "class Animal : \n",
    "    def __init__(self , name , color):\n",
    "        self.name = name \n",
    "        self._color = color  \n",
    "    \n",
    "    def _make_sound(self) : \n",
    "        print(\"minh tri\")"
   ]
  },
  {
   "cell_type": "markdown",
   "id": "acde37ff",
   "metadata": {},
   "source": [
    "# override and extend "
   ]
  },
  {
   "cell_type": "code",
   "execution_count": null,
   "id": "5ff007f6",
   "metadata": {},
   "outputs": [],
   "source": [
    "# private : add \"__\" front method or attributes\n",
    "class Cat(Animal) :\n",
    "    def __init__(self , name , color): \n",
    "        super().__init__(name , color) \n",
    "        self.name = name\n",
    "        self.color = color \n",
    "    def make_sound(self) : \n",
    "        print(\"tri do\")\n",
    "\n",
    "\n",
    "\n",
    "# protected \n",
    "class Animal : \n",
    "    def __init__(self , name , color):\n",
    "        self.name = name \n",
    "        self._color = color  \n",
    "    \n",
    "    \n",
    "class Simease(Cat) : \n",
    "    def make_souncd(self) : \n",
    "        print(\"ok\")\n",
    "\n",
    "simease = Simease() \n",
    "simease.make_sound() \n",
    "\n",
    "# nếu lớp cha đã có phương thức đó thì gọi là override \n",
    "# nếu chưa có thì gọi là extend \n"
   ]
  },
  {
   "cell_type": "markdown",
   "id": "68ea80c4",
   "metadata": {},
   "source": [
    "# types of inheritance \n",
    "- single inheritance : kế thừa đơn\n",
    "- multiple inheritance : kế thừa nhiều lớp \n",
    "- multilevel inheritance : kế thừa ông - cha - cháu - ....\n",
    "- hierachical inheritance : kế thừa phân cấp \n",
    "- nếu có nhiều thuộc tính giống nhau thì được gọi theo câu lệnh sau cùng "
   ]
  },
  {
   "cell_type": "markdown",
   "id": "6828d76f",
   "metadata": {},
   "source": []
  }
 ],
 "metadata": {
  "kernelspec": {
   "display_name": "Python (myenv)",
   "language": "python",
   "name": "myenv"
  },
  "language_info": {
   "codemirror_mode": {
    "name": "ipython",
    "version": 3
   },
   "file_extension": ".py",
   "mimetype": "text/x-python",
   "name": "python",
   "nbconvert_exporter": "python",
   "pygments_lexer": "ipython3",
   "version": "3.13.2"
  }
 },
 "nbformat": 4,
 "nbformat_minor": 5
}
