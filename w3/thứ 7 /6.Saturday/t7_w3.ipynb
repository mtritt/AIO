{
 "cells": [
  {
   "cell_type": "markdown",
   "id": "04ebbae1",
   "metadata": {},
   "source": [
    "# tree and KD - tree"
   ]
  },
  {
   "cell_type": "markdown",
   "id": "8a319c8d",
   "metadata": {},
   "source": [
    "## what is tree ? \n",
    "- a non linear data structer where nodes are organized in a hierachy(thứ bậc)\n",
    "- parent node \n",
    "- leaf node \n",
    "- root node \n",
    "- child node \n",
    "- level of node(depth) : the count of edges on the path from the root node to that node \n",
    "\n"
   ]
  },
  {
   "cell_type": "code",
   "execution_count": null,
   "id": "a84fd3c9",
   "metadata": {},
   "outputs": [],
   "source": [
    "# tree implementation \n",
    "class TreeNode : \n",
    "    def __init__(self , data):\n",
    "        self.data = data # dữ liệu của node \n",
    "        self.children = [] # các node child của node \n",
    "        self.parent = None # cha của node này \n",
    "    \n",
    "    def add_chilf(self , child) : \n",
    "        child.parent = self # parent of B is A \n",
    "        self.chidren.append(child)\n",
    "\n",
    "    def get_level(self):\n",
    "        level = 0 \n",
    "        p = self.parent # bắt đầu từ node hiện tại \n",
    "        while p :\n",
    "            level += 1\n",
    "            p = p.parent # đi ngược lên để tìm node \n",
    "        return level \n",
    "\n",
    "    def print_tree(self):\n",
    "        space = ' ' * self.get_level() * 3\n",
    "        prefix = space + '| ' if self.parent else ''\n",
    "        print(prefix + self.data)\n",
    "        if self.children :\n",
    "            for child in self.children : \n",
    "                child.print_tree() "
   ]
  },
  {
   "cell_type": "markdown",
   "id": "20b595e9",
   "metadata": {},
   "source": [
    "## tree applications : \n",
    "- file explorer \n",
    "- database \n",
    "- HTML DOM \n",
    "- decision tree \n",
    "- K - D tree (K - demensional tree) : each node have more than 1 values as single node "
   ]
  },
  {
   "cell_type": "markdown",
   "id": "8c132c99",
   "metadata": {},
   "source": [
    "## types of tree \n",
    "- binary tree : chỉ có 2 node con hoặc không có node nào \n",
    "- ternary tree : có thể có 3 node con \n",
    "- N - ary tree : có nhiều hơn 3 node con "
   ]
  },
  {
   "cell_type": "markdown",
   "id": "6d5c0b47",
   "metadata": {},
   "source": [
    "### binary tree \n",
    "- is a data structer have at most 2 node children which are referred to as the left chid and the right child \n",
    "- full binary tree which have full most 2 node \n",
    "\n",
    "### balanced binary tree \n",
    "- the difference between the heights of the left and the right subtree for any node is not more than one \n",
    "- the left subtree is balanced \n",
    "- the right subtree is balanced \n",
    "- height balance of node = height of right subtree - height of left subtree \n",
    "- the height of a node in a tree is the length of the longest path from that node downward to a leaf \n",
    "- depth : tìm bằng cách đi từ node cuối cùng lên node gốc \n",
    "- height : tìm bằng cách từ node subtree đến cuối \n"
   ]
  },
  {
   "cell_type": "code",
   "execution_count": null,
   "id": "0c27fc11",
   "metadata": {},
   "outputs": [
    {
     "data": {
      "text/plain": [
       "'binary_tree.png'"
      ]
     },
     "execution_count": 4,
     "metadata": {},
     "output_type": "execute_result"
    }
   ],
   "source": [
    "# binary tree \n",
    "from graphviz import Graph\n",
    "\n",
    "class TreeNode:\n",
    "    def __init__(self, key):\n",
    "        self.left = None # con trái \n",
    "        self.right = None # con phải \n",
    "        self.val = key # giá trị của node \n",
    "\n",
    "def add_edges(dot, node):\n",
    "    if node is None:\n",
    "        return\n",
    "\n",
    "    if node.left: # nếu có con trái \n",
    "        dot.edge(str(node.val), str(node.left.val))  # vẽ đường từ cha đến con trái \n",
    "        add_edges(dot, node.left) # tiếp tục với con trái \n",
    "\n",
    "    if node.right:\n",
    "        dot.edge(str(node.val), str(node.right.val))  \n",
    "        add_edges(dot, node.right) \n",
    "\n",
    "def draw_tree(root):\n",
    "    dot = Graph()\n",
    "    dot.node(str(root.val)) # tạo node gốc đầu tiên \n",
    "    add_edges(dot, root) # thêm tất cả các đường kết nối \n",
    "    return dot\n",
    "\n",
    "\n",
    "root = TreeNode(1)\n",
    "root.left = TreeNode(2)\n",
    "root.right = TreeNode(3)\n",
    "root.left.left = TreeNode(4)\n",
    "root.left.right = TreeNode(5)\n",
    "dot = draw_tree(root) \n",
    "dot.render('binary_tree' , format = 'png', view = True) "
   ]
  },
  {
   "cell_type": "markdown",
   "id": "36a1715f",
   "metadata": {},
   "source": [
    "## algorithms on trees\n",
    "### traveral of binary tree \n",
    "- BFS : use queue\n",
    "- DFS : use recursion "
   ]
  },
  {
   "cell_type": "code",
   "execution_count": null,
   "id": "969739ab",
   "metadata": {},
   "outputs": [],
   "source": [
    "# BFS \n",
    "from collections import deque \n",
    "def BFS(root) : \n",
    "    if root is None : \n",
    "        return []\n",
    "    \n",
    "    res = [] \n",
    "    queue = deque([root])\n",
    "\n",
    "    while queue : \n",
    "        node = queue.popleft() # both to pop top and remove top from dq \n",
    "        res.append(node.val)\n",
    "\n",
    "        if node.left : \n",
    "            queue.append(node.left)\n",
    "        if node.right : \n",
    "            queue.append(node.right)\n",
    "\n",
    "    return res "
   ]
  },
  {
   "cell_type": "code",
   "execution_count": null,
   "id": "b36c705a",
   "metadata": {},
   "outputs": [],
   "source": [
    "# DFS \n",
    "def DFS(node) : \n",
    "    if node is None : \n",
    "        return [] \n",
    "    \n",
    "    res = [] \n",
    "    res.append(node.val)\n",
    "    res.extend(DFS(node.left))\n",
    "    res.extend(DFS(node.right))\n",
    "\n",
    "    return res \n",
    "    "
   ]
  },
  {
   "cell_type": "markdown",
   "id": "366187ab",
   "metadata": {},
   "source": [
    "\n",
    "DFS(1)\n",
    "├── append(1) → [1]\n",
    "├── DFS(2)\n",
    "│   ├── append(2) → [2]\n",
    "│   ├── DFS(4)\n",
    "│   │   ├── append(4) → [4]\n",
    "│   │   ├── DFS(None) → []\n",
    "│   │   └── DFS(None) → [] → return [4]\n",
    "│   ├── extend([4]) → [2, 4]\n",
    "│   ├── DFS(5)\n",
    "│   │   ├── append(5) → [5]\n",
    "│   │   ├── DFS(None) → []\n",
    "│   │   └── DFS(None) → [] → return [5]\n",
    "│   └── extend([5]) → [2, 4, 5] → return [2, 4, 5]\n",
    "├── extend([2,4,5]) → [1, 2, 4, 5]\n",
    "├── DFS(3)\n",
    "│   ├── append(3) → [3]\n",
    "│   ├── DFS(None) → []\n",
    "│   └── DFS(None) → [] → return [3]\n",
    "└── extend([3]) → [1, 2, 4, 5, 3] → return [1, 2, 4, 5, 3]"
   ]
  },
  {
   "cell_type": "markdown",
   "id": "a679311d",
   "metadata": {},
   "source": [
    "### insert a node in a binary tree \n",
    "- ưu tiên chèn vào vị trí thiếu trái , phải \n",
    "- nếu đủ thì ưu tiên chèn trái "
   ]
  },
  {
   "cell_type": "code",
   "execution_count": null,
   "id": "c4eb1e52",
   "metadata": {},
   "outputs": [],
   "source": [
    "def insert_node(root , key) : \n",
    "    new_node = TreeNode(key) # tạo node mới \n",
    "\n",
    "    # if tree empty \n",
    "    if root is None : \n",
    "        return new_node \n",
    "\n",
    "    queue = [] \n",
    "    queue.append(root) \n",
    "\n",
    "    while queue : \n",
    "        temp = queue.pop(0) # lấy node đầu tiên trong hàng đợi \n",
    "\n",
    "        if temp.left is None : \n",
    "            temp.left = new_node\n",
    "            return root\n",
    "        else : \n",
    "            queue.append(temp.left)\n",
    "\n",
    "        # nếu trái đã đầy thì thêm phải \n",
    "        if temp.right is None : \n",
    "            temp.right = new_node \n",
    "            return root \n",
    "        else : \n",
    "            queue.append(temp.right)\n",
    "\n",
    "    return root \n",
    "\n",
    "# tìm vị trí trống đầu tiên theo thứ tự từ trên xuống dưới , từ trái qua phải "
   ]
  },
  {
   "cell_type": "markdown",
   "id": "6c304def",
   "metadata": {},
   "source": [
    "### delete a node in binary tree \n",
    "- nếu là node lá thì chỉ cần bỏ kết nối \n",
    "- giải thuật : \n",
    "+ find the node to be deleted \n",
    "+ replace the node : if the node to be deleted is not a leaf node , replace it with the deepest rightmost node in the tree \n",
    "+ delete the deepest node : remove the deepest in the rightmost node from the tree \n",
    "==> bản chất là để sao cho cây balance nhất có thể "
   ]
  },
  {
   "cell_type": "markdown",
   "id": "d5d9d72a",
   "metadata": {},
   "source": [
    "## binary tree limitations \n",
    "### bianry search tree : node left is smaller than root and node right is greater than root \n"
   ]
  },
  {
   "cell_type": "code",
   "execution_count": null,
   "id": "c137f354",
   "metadata": {},
   "outputs": [],
   "source": [
    "class BST : \n",
    "    def __init__(self) : \n",
    "        self.root = None \n",
    "\n",
    "    def insert(self , key) : \n",
    "        if self.root is None : \n",
    "            self.root = TreeNode(key) \n",
    "        else : \n",
    "            self._insert(self.root , key)\n",
    "\n",
    "    def _insert(self , node , key) : \n",
    "        if key < node.val : \n",
    "            if node.left is None : \n",
    "                node.left = TreeNode(key) \n",
    "            else : \n",
    "                self._insert(node.left , key)\n",
    "        else : \n",
    "            if node.right is None : \n",
    "                node.right = TreeNode(key) \n",
    "            else : \n",
    "                self._insert(node.right , key)\n",
    "                \n",
    "    def search(self , key) : \n",
    "        return self._search(self.root , key)\n",
    "\n",
    "    def _search(self , node , key) : \n",
    "        if node is None or node.val == key : \n",
    "            return node \n",
    "        if key < node.val : \n",
    "            return self._search(node.left , key)\n",
    "        return self._search(node.right , key)\n"
   ]
  },
  {
   "cell_type": "markdown",
   "id": "8c69ea22",
   "metadata": {},
   "source": [
    "_search(8, 6)\n",
    "├── 6 < 8 → _search(3, 6)\n",
    "    ├── 6 >= 3 → _search(6, 6)\n",
    "        ├── node.val == 6 → return node 6 ✅"
   ]
  },
  {
   "cell_type": "markdown",
   "id": "2d4ed1a2",
   "metadata": {},
   "source": [
    "### lý do có 2 hàm insert và 2 hàm search \n",
    "- ẩn chi tiết triển khai \n",
    "- đệ quy cần tham số node , hàm public cung cấp node cho hàm prv"
   ]
  },
  {
   "cell_type": "markdown",
   "id": "9517f60e",
   "metadata": {},
   "source": [
    "# what is K - D tree \n",
    "- AK-D Tree is a binary tree in which each node represents a k-dimensional point. Every non-leaf node in the tree acts as a hyperplane, dividing the space into two partitions. This hyperplane is perpendicular to the chosen axis, which is associated with one of the K dimensions\n",
    "\n",
    "## K-D tree solution \n",
    "- pick any one feature at random \n",
    "- find median \n",
    "- split dataset in approximate equal have\n",
    "- pick next feature an repeat #2 #3 \n",
    "- continue until all data points are partitioned"
   ]
  },
  {
   "cell_type": "markdown",
   "id": "16c9eff9",
   "metadata": {},
   "source": [
    "- số cạnh từ node gốc đến node hiện tại được gọi là độ sâu của cây \n",
    "- số cạnh từ node hiện tại đến node cuối cùng được gọi là chiều cao của cây \n",
    "- tìm median có thể tìm theo cách len(arr) / 2\n",
    "- so sánh luân phiên trục x và trục y đối với K - D tree \n"
   ]
  }
 ],
 "metadata": {
  "kernelspec": {
   "display_name": "Python (myenv)",
   "language": "python",
   "name": "myenv"
  },
  "language_info": {
   "codemirror_mode": {
    "name": "ipython",
    "version": 3
   },
   "file_extension": ".py",
   "mimetype": "text/x-python",
   "name": "python",
   "nbconvert_exporter": "python",
   "pygments_lexer": "ipython3",
   "version": "3.13.2"
  }
 },
 "nbformat": 4,
 "nbformat_minor": 5
}
