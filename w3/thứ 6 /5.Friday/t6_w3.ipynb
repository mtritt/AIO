{
 "cells": [
  {
   "cell_type": "markdown",
   "id": "df0c2d45",
   "metadata": {},
   "source": [
    "# 1.inheritance and application "
   ]
  },
  {
   "cell_type": "markdown",
   "id": "deb04b6b",
   "metadata": {},
   "source": [
    "# review access modifiers \n",
    "- private(__name) : use only within class \n",
    "- public(name) : can use everywhere \n",
    "- protedted(_name) : should use within class "
   ]
  },
  {
   "cell_type": "markdown",
   "id": "96cb682a",
   "metadata": {},
   "source": [
    "# inheritance : mechanism by which one class is allowed to inherit the features (attributes and method) of another class \n",
    "- mechanism : cơ chế \n",
    "## super class \n",
    "## subclass "
   ]
  },
  {
   "cell_type": "code",
   "execution_count": null,
   "id": "f36fb20f",
   "metadata": {},
   "outputs": [],
   "source": [
    "class Person : \n",
    "    def __init__(self , name) : \n",
    "        self.__name = name\n",
    "    def getter(self):\n",
    "        return self.__name\n",
    "    def setter(self , name) : \n",
    "        self.__name = name "
   ]
  },
  {
   "cell_type": "code",
   "execution_count": 4,
   "id": "de8cde63",
   "metadata": {},
   "outputs": [
    {
     "name": "stdout",
     "output_type": "stream",
     "text": [
      "thao\n",
      "None\n"
     ]
    }
   ],
   "source": [
    "class Animal : \n",
    "    def __init__(self , name) : \n",
    "        self._name = name \n",
    "\n",
    "class Dog(Animal): \n",
    "    # vì lớp Dog kế thừa Animal nên cũng sẽ có hàm init và cũng yêu cầu 1 tham số \n",
    "    def describe(self): \n",
    "        print(self._name)\n",
    "\n",
    "\n",
    "a_dog = Dog(\"thao\")\n",
    "print(a_dog.describe()) "
   ]
  },
  {
   "cell_type": "code",
   "execution_count": null,
   "id": "99a98efc",
   "metadata": {},
   "outputs": [],
   "source": [
    "class Math1 : \n",
    "    def total(self , numbers):\n",
    "        return sum(numbers) \n",
    "\n",
    "class Math2(Math1) :\n",
    "    def avg(self , numbers) : \n",
    "        return super().total(numbers) / len(numbers) \n",
    "        # or \n",
    "        # return Math1.total(self , numbers) / len(numbers) \n",
    "\n",
    "math2 = Math2() \n",
    "\n"
   ]
  },
  {
   "cell_type": "code",
   "execution_count": null,
   "id": "f744e7e3",
   "metadata": {},
   "outputs": [
    {
     "name": "stdout",
     "output_type": "stream",
     "text": [
      "60000.0\n"
     ]
    }
   ],
   "source": [
    "class Employee: \n",
    "    def __init__(self , name , salary) : \n",
    "        self._name = name \n",
    "        self._salary = salary \n",
    "    def compute_salary(self , salary) : \n",
    "        return self._salary * 3.0 \n",
    "\n",
    "class Manager(Employee) : \n",
    "    # nếu object có thuộc tính riêng thì cần super() hàm init rồi thêm tt\n",
    "    def __init__(self , name , salary , bonus) : \n",
    "        super().__init__(name , salary) \n",
    "        self.__bonus = bonus\n",
    "\n",
    "    def compute_salary(self, salary):\n",
    "        return super().compute_salary(salary) + self.__bonus\n",
    "\n",
    "\n",
    "emp1 = Employee(\"tri\" , 20000)\n",
    "slr = emp1.compute_salary(20000)\n",
    "print(slr)\n"
   ]
  },
  {
   "cell_type": "code",
   "execution_count": null,
   "id": "90bb4cf5",
   "metadata": {},
   "outputs": [
    {
     "name": "stdout",
     "output_type": "stream",
     "text": [
      "25\n"
     ]
    }
   ],
   "source": [
    "from abc import ABC , abstractmethod\n",
    "\n",
    "class Shape(ABC) :\n",
    "    # Shape là lớp trừu tượng , những lớp con kế thừa lớp này phải có hàm của lớp cha \n",
    "    # bắt buộc phải tạo hàm giống như hàm chứa abstract , cài đúng yêu cầu \n",
    "    @abstractmethod\n",
    "    def compute(self):\n",
    "        pass\n",
    "\n",
    "class Square(Shape) : \n",
    "    def __init__(self , side):\n",
    "        self.__side = side  \n",
    "    def compute(self) : \n",
    "        return self.__side * self.__side \n",
    "\n",
    "class Canva : \n",
    "    def draw(self, a_shape) : \n",
    "        print(a_shape.compute())\n",
    "\n",
    "class Retangle(Shape) : \n",
    "    def __init__(self , height , width) : \n",
    "        self.__height = height \n",
    "        self.__width = width \n",
    "\n",
    "    def compute(self) : \n",
    "        return self.__height * self.width \n",
    "\n",
    "\n",
    "s = Square(5)\n",
    "print(s.compute())\n"
   ]
  },
  {
   "cell_type": "markdown",
   "id": "8828d0bf",
   "metadata": {},
   "source": [
    "# multiple and multi-level inheritances \n"
   ]
  },
  {
   "cell_type": "markdown",
   "id": "603a7531",
   "metadata": {},
   "source": [
    "# custom class in pytorch \n"
   ]
  },
  {
   "cell_type": "markdown",
   "id": "122722cf",
   "metadata": {},
   "source": [
    "# tóm lại \n",
    "- @abstractmethod : định nghĩa interface bắt buộc các lớp con PHẢI triển khai theo phương thức này \n",
    "- đảm bảo tính nhất quán \n",
    "\n",
    "# sử dụng các access modifiers \n",
    "- public : thuộc tính an toàn , không cần bảo vệ \n",
    "- protected : không nên truy cập trực tiếp \n",
    "- private : ngăn chặn truy cập trực tiếp , dữ liệu nhạy cảm , quan trọng \n"
   ]
  }
 ],
 "metadata": {
  "kernelspec": {
   "display_name": "Python (myenv)",
   "language": "python",
   "name": "myenv"
  },
  "language_info": {
   "codemirror_mode": {
    "name": "ipython",
    "version": 3
   },
   "file_extension": ".py",
   "mimetype": "text/x-python",
   "name": "python",
   "nbconvert_exporter": "python",
   "pygments_lexer": "ipython3",
   "version": "3.13.2"
  }
 },
 "nbformat": 4,
 "nbformat_minor": 5
}
