{
 "cells": [
  {
   "cell_type": "markdown",
   "id": "d6725482",
   "metadata": {},
   "source": [
    "# data visualization & EDA \n",
    "- hiểu data \n",
    "- nhận diện pattern & mối quan hệ \n",
    "- làm sạch data \n",
    "- feature engirneering \n",
    "- ouliers : là những điểm dữ liệu có giá trị khác biệt đáng kể so với phần lớn các điểm dữ liệu còn lại "
   ]
  },
  {
   "cell_type": "markdown",
   "id": "15aff91b",
   "metadata": {},
   "source": [
    "# visualization basics \n",
    "- các loại biểu đồ phổ biến : yearly values , scatter plot, category values , data distribution , pie chart , box plot\n",
    "- interquartile range(IOR) \n",
    "- correlation matrix "
   ]
  }
 ],
 "metadata": {
  "language_info": {
   "name": "python"
  }
 },
 "nbformat": 4,
 "nbformat_minor": 5
}
