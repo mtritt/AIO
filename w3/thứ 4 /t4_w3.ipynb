{
 "cells": [
  {
   "cell_type": "markdown",
   "id": "328cf34a",
   "metadata": {},
   "source": [
    "# OOP with python \n",
    "- classes : a class is a template(blue print) for objects , and an object is an instance of a class \n",
    "- a classes have : attributes and methods "
   ]
  },
  {
   "cell_type": "markdown",
   "id": "76523f9c",
   "metadata": {},
   "source": [
    "# naming conventoins \n",
    "- first letter must be capitialized \n",
    "- self is the first parameter in class "
   ]
  },
  {
   "cell_type": "markdown",
   "id": "632996ff",
   "metadata": {},
   "source": []
  },
  {
   "cell_type": "markdown",
   "id": "41ecd152",
   "metadata": {},
   "source": [
    "# getter and setter \n",
    "- private \n",
    "- public \n",
    "- protected"
   ]
  },
  {
   "cell_type": "code",
   "execution_count": null,
   "id": "f636f16b",
   "metadata": {},
   "outputs": [
    {
     "name": "stdout",
     "output_type": "stream",
     "text": [
      "tri\n"
     ]
    }
   ],
   "source": [
    "# have \"__\" is private modifier \n",
    "class Cat : \n",
    "    def __init__(self , name): \n",
    "        self.__name = name \n",
    "    \n",
    "    def get_name(self) : \n",
    "        return self.__name \n",
    "        \n",
    "    def set_name(self , name) : \n",
    "        self.__name = name\n",
    "\n",
    "\n",
    "dog = Cat('fido')\n",
    "dog.set_name('tri')\n",
    "print(dog.get_name())"
   ]
  },
  {
   "cell_type": "code",
   "execution_count": 2,
   "id": "b2eff222",
   "metadata": {},
   "outputs": [
    {
     "name": "stdout",
     "output_type": "stream",
     "text": [
      "2 1 2025\n"
     ]
    }
   ],
   "source": [
    "class Date : \n",
    "    def __init__(self , day , month , year) : \n",
    "        self.__day = day \n",
    "        self.__month = month \n",
    "        self.__year = year\n",
    "\n",
    "    def get_day(self): \n",
    "        return self.__day\n",
    "    \n",
    "    def set_day(self , day) : \n",
    "        self.__day = day \n",
    "    \n",
    "    def get_month(self ) : \n",
    "        return self.__month \n",
    "\n",
    "    def set_mọnth(self , month) : \n",
    "        self.__month = month \n",
    "\n",
    "    def set_year(self , year) : \n",
    "        self.__year = year\n",
    "    \n",
    "    def get_year(self): \n",
    "        return self.__year\n",
    "\n",
    "d = Date(2 , 1 , 2025)\n",
    "print(d.get_day() , d.get_month() , d.get_year())\n"
   ]
  },
  {
   "cell_type": "markdown",
   "id": "30ed8d99",
   "metadata": {},
   "source": [
    "# stack and queue \n",
    "- stack : LIFO (last in first out)\n",
    "- queue : FIFO (first in first out)\n"
   ]
  },
  {
   "cell_type": "code",
   "execution_count": 12,
   "id": "ca409198",
   "metadata": {},
   "outputs": [
    {
     "name": "stdout",
     "output_type": "stream",
     "text": [
      "[]\n"
     ]
    }
   ],
   "source": [
    "class MyStack : \n",
    "    def __init__(self , capacity) : \n",
    "        self.__data = [] \n",
    "        self.__capacity = capacity \n",
    "\n",
    "    def describe(self) : \n",
    "        print(self.__data)\n",
    "\n",
    "    def push(self , item) :\n",
    "        return self.__data.append(item) \n",
    "\n",
    "    def pop(self) : \n",
    "        if self.empty() : \n",
    "            return -1\n",
    "        else : \n",
    "            return self.__data.pop(-1) \n",
    "\n",
    "    def empty(self) : \n",
    "        return len(self.__data) == 0 \n",
    "\n",
    "\n",
    "stack = MyStack(5)\n",
    "stack.push(5)\n",
    "stack.push(4) \n",
    "stack.pop()\n",
    "stack.pop()\n",
    "stack.pop()\n",
    "stack.describe()\n"
   ]
  }
 ],
 "metadata": {
  "kernelspec": {
   "display_name": "Python (myenv)",
   "language": "python",
   "name": "myenv"
  },
  "language_info": {
   "codemirror_mode": {
    "name": "ipython",
    "version": 3
   },
   "file_extension": ".py",
   "mimetype": "text/x-python",
   "name": "python",
   "nbconvert_exporter": "python",
   "pygments_lexer": "ipython3",
   "version": "3.13.2"
  }
 },
 "nbformat": 4,
 "nbformat_minor": 5
}
