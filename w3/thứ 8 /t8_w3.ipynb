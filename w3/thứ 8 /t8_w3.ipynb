{
 "cells": [
  {
   "cell_type": "markdown",
   "id": "76049da6",
   "metadata": {},
   "source": [
    "1. viết class và phương thức softmax "
   ]
  },
  {
   "cell_type": "code",
   "execution_count": null,
   "id": "52162c33",
   "metadata": {},
   "outputs": [],
   "source": [
    "import math \n",
    "class SoftMax : \n",
    "    def __init__(self , data): \n",
    "        self.data = data \n",
    "\n",
    "    def soft_max(self , data) : \n",
    "        result = 0 \n",
    "        for i in range(data) : \n",
    "            TS = math.exp(data[i]) \n",
    "            for j in range(data) : \n",
    "                MS += math.exp(data[j]) \n",
    "        result = TS / MS \n",
    "        return result \n",
    "\n",
    "class softmax_satble() : \n",
    "    def __init__(self , data) : \n",
    "        self.data = data \n",
    "\n",
    "    def softmax_stable(self , data) :\n",
    "        c = max(data) \n",
    "        result = 0 \n",
    "        for i in range(data) : \n",
    "            TS = math.exp(data[i] - c) \n",
    "            for j in range(data) : \n",
    "                MS += math.exp(data[j] - c)\n",
    "        result = TS / MS \n",
    "        return result \n"
   ]
  },
  {
   "cell_type": "code",
   "execution_count": 36,
   "id": "e775e1ee",
   "metadata": {},
   "outputs": [
    {
     "data": {
      "text/plain": [
       "tensor([0.0900, 0.2447, 0.6652])"
      ]
     },
     "execution_count": 36,
     "metadata": {},
     "output_type": "execute_result"
    }
   ],
   "source": [
    "# chữa bài 1 \n",
    "# khai báo thư viện \n",
    "import torch \n",
    "import torch.nn as nn\n",
    "\n",
    "# chuyển dữ liệu về kiểu tensor \n",
    "data = torch.Tensor([1 , 2 , 3])\n",
    "softMax_function = nn.Softmax(dim = 0) # dim = 0 --> chiều dữ liệu \n",
    "output = softMax_function(data)\n",
    "output \n"
   ]
  },
  {
   "cell_type": "code",
   "execution_count": 37,
   "id": "ccbed62a",
   "metadata": {},
   "outputs": [
    {
     "data": {
      "text/plain": [
       "tensor([0.0900, 0.2447, 0.6652])"
      ]
     },
     "execution_count": 37,
     "metadata": {},
     "output_type": "execute_result"
    }
   ],
   "source": [
    "class MySoftMax(nn.Module) : \n",
    "    def __init__(self) : \n",
    "        super().__init__() \n",
    "    \n",
    "    def forward(sel , x): \n",
    "        x_exp = torch.exp(x) \n",
    "        total = x_exp.sum(0 , keepdims = True)\n",
    "        return x_exp / total \n",
    "\n",
    "mySm = MySoftMax()\n",
    "output = mySm(data) \n",
    "output \n"
   ]
  },
  {
   "cell_type": "code",
   "execution_count": 44,
   "id": "fcadc89d",
   "metadata": {},
   "outputs": [
    {
     "data": {
      "text/plain": [
       "tensor([0.0900, 0.2447, 0.6652])"
      ]
     },
     "execution_count": 44,
     "metadata": {},
     "output_type": "execute_result"
    }
   ],
   "source": [
    "# tránh trường hợp số quá lớn không thể biểu diễn thì ta có hàm stable soft max \n",
    "class Stable_SoftMax(nn.Module) : \n",
    "    def __init__(self) : \n",
    "        super().__init__() \n",
    "\n",
    "    def forward(self , x) : \n",
    "        c = torch.max(x , dim = 0) # --> tensor chiều 0 tức dạng list 1 chiều \n",
    "        x_exp = torch.exp(x - c.values)\n",
    "        total = x_exp.sum(0 , keepdim = True)\n",
    "        return x_exp / total \n",
    "\n",
    "stable_SM = Stable_SoftMax()\n",
    "output = stable_SM(data) \n",
    "output \n"
   ]
  },
  {
   "cell_type": "markdown",
   "id": "5da6bcbb",
   "metadata": {},
   "source": [
    "2. ex2 "
   ]
  },
  {
   "cell_type": "code",
   "execution_count": null,
   "id": "e190eaee",
   "metadata": {},
   "outputs": [],
   "source": [
    "from abc import ABC , abstractmethod \n",
    "class Ward: \n",
    "    def __init__(self , name) : \n",
    "        self.__name = name \n",
    "        self.__list = [] \n",
    "\n",
    "    def add_person(self , person) : \n",
    "        self.__list.append(person) \n",
    "    \n",
    "    def describe(self) : \n",
    "        print(f\"Name :{self.__name}\")\n",
    "        for p in self.__list : \n",
    "            p.describe()\n",
    "\n",
    "    def count_doctor(self) : \n",
    "        cnt = 0 \n",
    "        for p in self.__list :\n",
    "            if isinstance(p , Doctor) :\n",
    "                cnt += 1 \n",
    "        return cnt \n",
    "\n",
    "    def sort_age(self) : \n",
    "        self.__list.sort(key = lambda x : x.get_yob() , reverse = True)\n",
    "\n",
    "    def compute_age(self) : \n",
    "        sum_age = 0 \n",
    "        count_teachers = 0 \n",
    "        for person in self.__list : \n",
    "            if isinstance('teacher' , person) : \n",
    "                sum_age += person.get_yob() \n",
    "                count_teachers += 1 \n",
    "        return sum_age / count_teachers \n",
    "\n",
    "class Person(ABC) : \n",
    "    def __init__(self , name , yob) : \n",
    "        self._name = name \n",
    "        self._yob = yob \n",
    "    \n",
    "    def get_yob(self) : \n",
    "        return self._yob \n",
    "\n",
    "    @abstractmethod\n",
    "    def describe(self) : \n",
    "        pass \n",
    "\n",
    "class Student(Person) : \n",
    "    def __init__(self , name , yob , grade) : \n",
    "        super().__init__(name , yob)\n",
    "        self.__grade = grade # --> chỉ lớp Student có thể truy cập \n",
    "\n",
    "    def describe(self):\n",
    "        print(f\"Student - Name :{self._name} - YoB :{self._yob} - Grade :{self.__grade}\")\n",
    "\n",
    "class Doctor(Person) : \n",
    "    def __init__(self , name , yob , specialist) : \n",
    "        super().__init__(name , yob) \n",
    "        self.__specialist = specialist\n",
    "\n",
    "    def describe(self) : \n",
    "        print(f\"Doctor - Name :{self._name} - YoB :{self._yob} - Specialist :{self.__specialist}\")\n",
    "\n",
    "class Teacher(Person) : \n",
    "    def __init__(self , name , yob , subject) : \n",
    "        super().__init__(name , yob)\n",
    "        self.__subject = subject \n",
    "\n",
    "    def describe(self) : \n",
    "        print(f\"Teacher - Name :{self._name} - YoB :{self._yob} - Subject :{self.__subject}\")\n",
    "    \n",
    "student1 = Student ( name = \" studentA \" , yob =2010 , grade = \" 7 \" )\n",
    "student1 . describe ()\n",
    "print() \n",
    "teacher1 = Teacher ( name = \" teacherA \" , yob =1969 , subject = \" Math \" )\n",
    "teacher1 . describe ()\n",
    "print()\n",
    "doctor1 = Doctor( name = \" doctorA \" , yob =1945 , specialist = \"Endocrinologists\")\n",
    "doctor1.describe() \n",
    "\n",
    "teacher2 = Teacher ( name = \" teacherB \" , yob =1995 , subject = \" History \" )\n",
    "doctor2 = Doctor ( name = \" doctorB \" , yob =1975 , specialist = \" Cardiologists\")\n",
    "ward1 = Ward ( name = \" Ward1 \" )\n",
    "ward1 . add_person ( student1 )\n",
    "ward1 . add_person ( teacher1 )\n",
    "ward1 . add_person ( teacher2 )\n",
    "ward1 . add_person ( doctor1 )\n",
    "ward1 . add_person ( doctor2 )\n",
    "ward1 . describe ()\n",
    "ward1.count_doctor()\n",
    "ward1.sort_age()\n",
    "print(f\"numbers of doctor :{ward1.count_doctor()}\")\n",
    "print(f\"avarge age of teachers :{int(ward1.compute_age())}\")\n"
   ]
  },
  {
   "cell_type": "markdown",
   "id": "22778335",
   "metadata": {},
   "source": [
    "isinstance(object , classinfo) : kiểm tra dữ liệu của tối tượng "
   ]
  },
  {
   "cell_type": "markdown",
   "id": "cc4094cd",
   "metadata": {},
   "source": [
    "3.ex3"
   ]
  },
  {
   "cell_type": "code",
   "execution_count": null,
   "id": "5a3d3ed3",
   "metadata": {},
   "outputs": [],
   "source": [
    "class MyStack : \n",
    "    def __init__(self , capacity) : \n",
    "        self.__capacity = capacity \n",
    "        self.__list = []\n",
    "\n",
    "    def is_empty(self) : \n",
    "        return len(self.__list) == 0\n",
    "\n",
    "    def is_full(self) : \n",
    "        return len(self.__list) == self.__capacity \n",
    "\n",
    "    def pop(self) : \n",
    "        if self.is_empty() :raise Exception(\"empty\")\n",
    "        else : return self.__list.pop() \n",
    "\n",
    "    def push(self , value) : \n",
    "        if self.is_full() : raise Exception(\"overflow\")\n",
    "        else : self.__list.append(value)\n",
    "\n",
    "    def top(self) : \n",
    "        if self.is_empty() : return 'Stack is empty'\n",
    "        else : return self.__list[-1]\n"
   ]
  },
  {
   "cell_type": "markdown",
   "id": "c00c88b1",
   "metadata": {},
   "source": [
    "4. ex4 "
   ]
  },
  {
   "cell_type": "code",
   "execution_count": null,
   "id": "554c498b",
   "metadata": {},
   "outputs": [],
   "source": [
    "class MyQueue : \n",
    "    def __init__(self , capacity) : \n",
    "        self.__capacity = capacity \n",
    "        self.__list = []\n",
    "\n",
    "    def is_empty(self) : \n",
    "        return len(self.__list) == 0 \n",
    "\n",
    "    def is_full(self) : \n",
    "        return len(self.__list) == self.capacity \n",
    "\n",
    "    def dequeue(self) : \n",
    "        if self.is_empty() : raise Exception('empty')\n",
    "        return self.__list.pop(0) \n",
    "\n",
    "    def enqueue(self, value) :\n",
    "        if self.is_full() : raise Exception('full')\n",
    "        return self.__list.append(value)\n",
    "\n",
    "    def front(self) : \n",
    "        if self.is_empty() : return 'Queue is empty' \n",
    "        else : return self.__list[0]\n"
   ]
  },
  {
   "cell_type": "markdown",
   "id": "fce43b04",
   "metadata": {},
   "source": [
    "# khi nào sử dụng self : \n",
    "- có self -> thuộc tính đối tượng \n",
    "- không self -> biến cục bộ \n",
    "- khi truy cập attributes \n",
    "- gọi method \n",
    "- làm việc với biến toàn cục \n",
    "\n",
    "# khi nào không dùng : \n",
    "- biến cục bộ trong method \n",
    "- tham số của method \n",
    "- temp variable \n",
    "- "
   ]
  }
 ],
 "metadata": {
  "kernelspec": {
   "display_name": "Python (myenv)",
   "language": "python",
   "name": "myenv"
  },
  "language_info": {
   "codemirror_mode": {
    "name": "ipython",
    "version": 3
   },
   "file_extension": ".py",
   "mimetype": "text/x-python",
   "name": "python",
   "nbconvert_exporter": "python",
   "pygments_lexer": "ipython3",
   "version": "3.13.2"
  }
 },
 "nbformat": 4,
 "nbformat_minor": 5
}
