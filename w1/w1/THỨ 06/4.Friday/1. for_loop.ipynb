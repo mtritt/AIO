{
 "cells": [
  {
   "cell_type": "code",
   "execution_count": null,
   "metadata": {},
   "outputs": [],
   "source": [
    "r = range(5)\n",
    "for i in r:\n",
    "    print(i)"
   ]
  },
  {
   "cell_type": "code",
   "execution_count": null,
   "metadata": {},
   "outputs": [],
   "source": [
    "# dùng hàm range để tạo một iterable có giá trị 0,1,2,3,4\n",
    "\n",
    "for i in range(5):\n",
    "    print('Hello AI VIETNAM')\n",
    "\n",
    "    # chúng ta có thể sử dụng giá trị i trong mỗi vòng lặp\n",
    "    print('Giá trị hiện tại của i là:', i)"
   ]
  },
  {
   "cell_type": "code",
   "execution_count": null,
   "metadata": {},
   "outputs": [],
   "source": []
  },
  {
   "cell_type": "code",
   "execution_count": null,
   "metadata": {},
   "outputs": [],
   "source": [
    "# dùng hàm range để tạo một iterable có giá trị 0,1,2,3,4\n",
    "\n",
    "for _ in range(5):\n",
    "    print('Hello AI VIETNAM')\n",
    "    print('làm gì đó ...')"
   ]
  },
  {
   "cell_type": "code",
   "execution_count": null,
   "metadata": {},
   "outputs": [],
   "source": []
  },
  {
   "cell_type": "code",
   "execution_count": null,
   "metadata": {},
   "outputs": [],
   "source": [
    "# duyệt phần tử trong range(10)\n",
    "for i in range(10):\n",
    "    # hỏi phần tử i có bằng 5 không?\n",
    "    if i == 5:\n",
    "        # nếu bằng thì thoát vòng lặp for này\n",
    "        break\n",
    "    \n",
    "    # làm gì đó với i    \n",
    "    print('Giá trị i là', i)"
   ]
  },
  {
   "cell_type": "code",
   "execution_count": null,
   "metadata": {},
   "outputs": [],
   "source": []
  },
  {
   "cell_type": "code",
   "execution_count": null,
   "metadata": {},
   "outputs": [],
   "source": [
    "# duyệt phần tử trong range(10)\n",
    "for i in range(10):\n",
    "    # hỏi phần tử i có bằng 5 không?\n",
    "    if i == 5:\n",
    "        # nếu bằng thì gọi continue\n",
    "        # phần code sau continue sẽ không  \n",
    "        # được thực thì trong lần lặp này\n",
    "        continue\n",
    "\n",
    "    # làm gì đó với i\n",
    "    print('Giá trị i là', i)"
   ]
  },
  {
   "cell_type": "code",
   "execution_count": null,
   "metadata": {},
   "outputs": [],
   "source": []
  },
  {
   "cell_type": "code",
   "execution_count": null,
   "metadata": {},
   "outputs": [],
   "source": [
    "# aivietnam.ai\n",
    "import random\n",
    "\n",
    "# Tổng số lần búng đồng xu\n",
    "total_flips = 0  \n",
    "\n",
    "# số lần mặt sau xuất hiện\n",
    "num_tails = 0\n",
    "\n",
    "# số lần mặt trước xuất hiện\n",
    "num_heads = 0\n",
    "\n",
    "for _ in range(1000):\n",
    "    # sinh số ngẫu nhiên nằm trong khoảng [0,1)\n",
    "    n = random.random()\n",
    "    if n < 0.5:\n",
    "        num_tails = num_tails + 1\n",
    "    else:\n",
    "        num_heads = num_heads + 1\n",
    "    \n",
    "    # code ở vị trí này không thuộc khối else    \n",
    "    total_flips = total_flips + 1\n",
    "    \n",
    "# code ở ví trị này không thuộc khối code cho for\n",
    "# vòng lặp for đã thực hiên xong\n",
    "print('total_flips: %d' % total_flips)\n",
    "print('num_tails: %d' % num_tails)\n",
    "print('num_heads: %d' % num_heads)"
   ]
  },
  {
   "cell_type": "code",
   "execution_count": null,
   "metadata": {},
   "outputs": [],
   "source": []
  },
  {
   "cell_type": "code",
   "execution_count": null,
   "metadata": {},
   "outputs": [],
   "source": [
    "# aivietnam.ai\n",
    "\n",
    "# hàm tính giai thừa\n",
    "def factorial(n):\n",
    "    result = 1\n",
    "    \n",
    "    for i in range(2, n+1):\n",
    "        result = result*i\n",
    "        \n",
    "    return result\n",
    "\n",
    "# hàm ước lượng số e\n",
    "def estimate_e(n):\n",
    "    result = 1\n",
    "    \n",
    "    for i in range(1, n+1):\n",
    "        result = result + 1/factorial(i)\n",
    "    \n",
    "    return result    \n",
    "\n",
    "# ước lượng số e với n = 10\n",
    "print(estimate_e(9))"
   ]
  },
  {
   "cell_type": "code",
   "execution_count": null,
   "metadata": {},
   "outputs": [],
   "source": []
  },
  {
   "cell_type": "code",
   "execution_count": null,
   "metadata": {},
   "outputs": [],
   "source": [
    "def compute_square_root(N, num_loops):\n",
    "    '''\n",
    "    This function aims to compute square root for the number N\n",
    "    \n",
    "    N -- the number needs to take the square root\n",
    "    num_loops -- number of loops used for this optimization\n",
    "    '''\n",
    "    \n",
    "    x_n = N/2.0\n",
    "    print(x_n)\n",
    "    \n",
    "    for i in range(num_loops):\n",
    "        x_np1 = (x_n + N/x_n) / 2.0\n",
    "        x_n = x_np1\n",
    "        print(x_np1)\n",
    "        \n",
    "    return x_np1\n",
    "\n",
    "print(compute_square_root(N=9, num_loops=5))"
   ]
  },
  {
   "cell_type": "code",
   "execution_count": 3,
   "metadata": {},
   "outputs": [
    {
     "name": "stdout",
     "output_type": "stream",
     "text": [
      "3.0\n",
      "4.000000000000004\n"
     ]
    }
   ],
   "source": [
    "def compute_square_root(a, n):   \n",
    "    '''\n",
    "    This function aims to compute square root for the number a\n",
    "    \n",
    "    a -- the number needs to take the square root\n",
    "    n -- the number of loops used for this optimization\n",
    "    '''\n",
    "    result = a/2.0    \n",
    "    \n",
    "    for _ in range(n):\n",
    "        result = (result + a/result) / 2.0 \n",
    "        \n",
    "    return result\n",
    "\n",
    "print(compute_square_root(a=9, n=5))\n",
    "print(compute_square_root(a=16, n=5))"
   ]
  },
  {
   "cell_type": "code",
   "execution_count": null,
   "metadata": {},
   "outputs": [],
   "source": []
  },
  {
   "cell_type": "code",
   "execution_count": null,
   "metadata": {},
   "outputs": [],
   "source": []
  },
  {
   "cell_type": "code",
   "execution_count": null,
   "metadata": {},
   "outputs": [],
   "source": [
    "# repeat 5 times\n",
    "for _ in range(5):\n",
    "    print('hello')"
   ]
  },
  {
   "cell_type": "code",
   "execution_count": null,
   "metadata": {},
   "outputs": [],
   "source": [
    "# repeat 5 times\n",
    "for i in range(5):\n",
    "    print(i)"
   ]
  },
  {
   "cell_type": "code",
   "execution_count": null,
   "metadata": {},
   "outputs": [],
   "source": [
    "# repeat 5 times\n",
    "for i in range(5):\n",
    "    print(i*i)"
   ]
  },
  {
   "cell_type": "code",
   "execution_count": null,
   "metadata": {},
   "outputs": [],
   "source": [
    "# repeat 5 times\n",
    "value = 3\n",
    "for i in range(5):\n",
    "    print(value+i)"
   ]
  },
  {
   "cell_type": "code",
   "execution_count": null,
   "metadata": {},
   "outputs": [],
   "source": [
    "# repeat 5 times\n",
    "total = 0\n",
    "for i in range(5):\n",
    "    total = total + i\n",
    "    print(total)"
   ]
  },
  {
   "cell_type": "code",
   "execution_count": null,
   "metadata": {},
   "outputs": [],
   "source": [
    "# repeat 5 times\n",
    "for i in range(5):\n",
    "    total = 0\n",
    "    print(id(total))\n",
    "    total = total + i\n",
    "print(total)"
   ]
  },
  {
   "cell_type": "code",
   "execution_count": null,
   "metadata": {},
   "outputs": [],
   "source": [
    "# repeat 5 times\n",
    "begin = 1\n",
    "end = 6\n",
    "step = 2\n",
    "for i in range(begin, end, step):\n",
    "    print(i)"
   ]
  },
  {
   "cell_type": "code",
   "execution_count": null,
   "metadata": {},
   "outputs": [],
   "source": [
    "n = 3\n",
    "for i in range(n+1):\n",
    "    print(i)"
   ]
  },
  {
   "cell_type": "code",
   "execution_count": null,
   "metadata": {},
   "outputs": [],
   "source": [
    "n = 3\n",
    "for i in range(1, n+1):\n",
    "    print(i)"
   ]
  },
  {
   "cell_type": "code",
   "execution_count": null,
   "metadata": {},
   "outputs": [],
   "source": [
    "n = 4\n",
    "result = 1\n",
    "for i in range(1, n+1):\n",
    "    result = result*i\n",
    "print(result)"
   ]
  },
  {
   "cell_type": "code",
   "execution_count": null,
   "metadata": {},
   "outputs": [],
   "source": []
  },
  {
   "cell_type": "code",
   "execution_count": null,
   "metadata": {},
   "outputs": [],
   "source": [
    "for i in range(5):\n",
    "    print(i)\n",
    "    if i==2:\n",
    "        break"
   ]
  },
  {
   "cell_type": "code",
   "execution_count": null,
   "metadata": {},
   "outputs": [],
   "source": [
    "for i in range(5):    \n",
    "    if i==2:\n",
    "        break\n",
    "    print(i)"
   ]
  },
  {
   "cell_type": "code",
   "execution_count": null,
   "metadata": {},
   "outputs": [],
   "source": [
    "for i in range(5):  \n",
    "    print(i)\n",
    "    if i==2:\n",
    "        break    "
   ]
  },
  {
   "cell_type": "code",
   "execution_count": null,
   "metadata": {},
   "outputs": [],
   "source": []
  },
  {
   "cell_type": "code",
   "execution_count": null,
   "metadata": {},
   "outputs": [],
   "source": [
    "for i in range(3):    \n",
    "    if i==1:\n",
    "        continue\n",
    "    print(i)"
   ]
  },
  {
   "cell_type": "code",
   "execution_count": null,
   "metadata": {},
   "outputs": [],
   "source": [
    "for i in range(3):  \n",
    "    print(i)\n",
    "    if i==1:\n",
    "        continue    "
   ]
  },
  {
   "cell_type": "code",
   "execution_count": null,
   "metadata": {},
   "outputs": [],
   "source": []
  },
  {
   "cell_type": "code",
   "execution_count": null,
   "metadata": {},
   "outputs": [],
   "source": []
  }
 ],
 "metadata": {
  "kernelspec": {
   "display_name": "Python 3 (ipykernel)",
   "language": "python",
   "name": "python3"
  },
  "language_info": {
   "codemirror_mode": {
    "name": "ipython",
    "version": 3
   },
   "file_extension": ".py",
   "mimetype": "text/x-python",
   "name": "python",
   "nbconvert_exporter": "python",
   "pygments_lexer": "ipython3",
   "version": "3.9.18"
  }
 },
 "nbformat": 4,
 "nbformat_minor": 4
}
