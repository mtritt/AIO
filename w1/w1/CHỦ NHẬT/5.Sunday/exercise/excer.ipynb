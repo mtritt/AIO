{
 "cells": [
  {
   "cell_type": "code",
   "execution_count": 10,
   "id": "3a768fac",
   "metadata": {},
   "outputs": [],
   "source": [
    "import math\n",
    "import random "
   ]
  },
  {
   "cell_type": "code",
   "execution_count": 30,
   "id": "9416b24a",
   "metadata": {},
   "outputs": [],
   "source": [
    "def is_number(x):\n",
    "    try :\n",
    "        float(x)\n",
    "        return True \n",
    "    except ValueError : \n",
    "        return False "
   ]
  },
  {
   "cell_type": "code",
   "execution_count": 31,
   "id": "5b3d867b",
   "metadata": {},
   "outputs": [],
   "source": [
    "def activation_name(name):\n",
    "    valid_activation = [\"sigmoid\" ,\"relu\" ,\"elu\"]\n",
    "    if name not in valid_activation :\n",
    "        return False\n",
    "    return True "
   ]
  },
  {
   "cell_type": "code",
   "execution_count": 46,
   "id": "20c31efa",
   "metadata": {},
   "outputs": [],
   "source": [
    "def calc_sigmoid(x):\n",
    "    x_float = float(x) \n",
    "    return 1 / (1 + math.exp(-x_float))\n",
    "\n",
    "def calc_relu(x): \n",
    "    x_float = float(x) \n",
    "    if x_float > 0 : \n",
    "        return x_float  \n",
    "    else :\n",
    "        return 0 \n",
    "\n",
    "def calc_elu(x):\n",
    "    x_float = float(x) \n",
    "    if x_float <= 0 : \n",
    "        return 0.01 * (math.exp(-x_float) - 1) \n",
    "    else :\n",
    "        return x_float  \n",
    "\n",
    " "
   ]
  },
  {
   "cell_type": "code",
   "execution_count": null,
   "id": "3cc7e105",
   "metadata": {},
   "outputs": [],
   "source": [
    "x = input(\"enter a number : \")\n",
    "function = input(\"activation function (sigmoid | relu | elu) : \" ).lower().strip() \n",
    "\n",
    "if(is_number(x)) : \n",
    "    if activation_name(function) :\n",
    "        if function == \"sigmoid\" :\n",
    "            print(calc_sigmoid(x))\n",
    "        elif function == \"relu\" :\n",
    "            print(calc_relu(x))\n",
    "        elif function == \"elu\" :\n",
    "            print(calc_elu(x)) \n",
    "    else : \n",
    "        print(f\"{function}is not supported\")\n",
    "else :\n",
    "    print(\"x must be a number\")\n",
    "        "
   ]
  },
  {
   "cell_type": "code",
   "execution_count": 12,
   "id": "c9db8910",
   "metadata": {},
   "outputs": [],
   "source": [
    "num_samples = input(\"enter number samples : \")\n",
    "loss_function_name = input(\"enter a loss function (MAE | MSE | RMSE) :\").lower().strip()\n",
    "\n",
    "def check_num_samples(num_samples) :\n",
    "    try : \n",
    "        num_int = int(num_samples) \n",
    "        return True , num_int\n",
    "    except ValueError : \n",
    "        return False , 0 "
   ]
  },
  {
   "cell_type": "code",
   "execution_count": 13,
   "id": "c453ced0",
   "metadata": {},
   "outputs": [],
   "source": [
    "def calc_MAE(target ,predict ) : \n",
    "    result = 0 \n",
    "    for i in range(len(target)) : \n",
    "        result += abs(target[i] - predict[i])\n",
    "    return result / len(target)\n",
    "\n",
    "def calc_MSE(target ,predict ) : \n",
    "    result = 0 \n",
    "    for i in range(len(target)) : \n",
    "        result += (target[i] - predict[i]) ** 2 \n",
    "    return result / len(target)\n",
    "\n",
    "def calc_RMSE(target ,predict ) : \n",
    "    mse = calc_MSE(target , predict) \n",
    "    return math.sqrt(mse)\n",
    "\n"
   ]
  },
  {
   "cell_type": "code",
   "execution_count": 15,
   "id": "d35cc47b",
   "metadata": {},
   "outputs": [],
   "source": [
    "is_valid , n = check_num_samples(num_samples)\n",
    "\n",
    "if is_valid : \n",
    "    targets = []\n",
    "    predicts = [] \n",
    "    \n",
    "    for i in range(n) : \n",
    "        predict = random.uniform(0 , 10)\n",
    "        target = random.uniform(0 , 10) \n",
    "        targets.append(target) \n",
    "        predicts.append(predict) \n",
    "\n",
    "    ans = 0 \n",
    "    if loss_function_name == \"MAE\" : \n",
    "        ans = calc_MAE(targets , predicts) \n",
    "        print(f\"MAE value is :{ans}\")\n",
    "    elif loss_function_name == \"MSE\" : \n",
    "        ans = calc_MSE(targets , predicts) \n",
    "        print(f\"MSE value is :{ans}\")\n",
    "    elif loss_function_name == \"RMSE\" : \n",
    "        ans = calc_RMSE(targets , predicts) \n",
    "        print(f\"RMSE value is :{ans}\")\n",
    "else : \n",
    "    print(\"number of samples must be an interger\")\n"
   ]
  },
  {
   "cell_type": "markdown",
   "id": "898c20d5",
   "metadata": {},
   "source": []
  },
  {
   "cell_type": "code",
   "execution_count": null,
   "id": "a6a490ac",
   "metadata": {},
   "outputs": [],
   "source": []
  },
  {
   "cell_type": "code",
   "execution_count": null,
   "id": "d0d579d6",
   "metadata": {},
   "outputs": [],
   "source": []
  }
 ],
 "metadata": {
  "kernelspec": {
   "display_name": "Python (myenv)",
   "language": "python",
   "name": "myenv"
  },
  "language_info": {
   "codemirror_mode": {
    "name": "ipython",
    "version": 3
   },
   "file_extension": ".py",
   "mimetype": "text/x-python",
   "name": "python",
   "nbconvert_exporter": "python",
   "pygments_lexer": "ipython3",
   "version": "3.13.2"
  }
 },
 "nbformat": 4,
 "nbformat_minor": 5
}
