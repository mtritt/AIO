{
  "nbformat": 4,
  "nbformat_minor": 0,
  "metadata": {
    "colab": {
      "provenance": []
    },
    "kernelspec": {
      "name": "python3",
      "display_name": "Python 3"
    },
    "language_info": {
      "name": "python"
    }
  },
  "cells": [
    {
      "cell_type": "code",
      "source": [
        "#y = ax2 + bx + c"
      ],
      "metadata": {
        "id": "vcYwvGNQGEdg"
      },
      "execution_count": 3,
      "outputs": []
    },
    {
      "cell_type": "code",
      "source": [
        "# get input from the user\n",
        "a = int(input(\"Enter a: \"))\n",
        "b = int(input(\"Enter b: \"))\n",
        "c = int(input(\"Enter c: \"))\n",
        "print(\"a = \", a, \"b = \", b, \"c = \", c)"
      ],
      "metadata": {
        "colab": {
          "base_uri": "https://localhost:8080/"
        },
        "id": "wX13i9yZJYmf",
        "outputId": "46d9a56d-ad35-4039-a85f-45a5517ca1c4"
      },
      "execution_count": 8,
      "outputs": [
        {
          "output_type": "stream",
          "name": "stdout",
          "text": [
            "Enter a: 1\n",
            "Enter b: 3\n",
            "Enter c: -4\n",
            "a =  1 b =  3 c =  -4\n"
          ]
        }
      ]
    },
    {
      "cell_type": "code",
      "source": [
        "# Calculate Delta\n",
        "delta = b**2 - 4*a*c\n",
        "print(\"Delta = \", delta )"
      ],
      "metadata": {
        "colab": {
          "base_uri": "https://localhost:8080/"
        },
        "id": "P2jIskP6KKcq",
        "outputId": "34ea9ad5-0c76-461a-ff23-e877f2856120"
      },
      "execution_count": 9,
      "outputs": [
        {
          "output_type": "stream",
          "name": "stdout",
          "text": [
            "Delta =  25\n"
          ]
        }
      ]
    },
    {
      "cell_type": "code",
      "source": [
        "import math\n",
        "# Compare Delta with Zero\n",
        "if delta > 0:\n",
        "    x1 = (-b + math.sqrt(delta))/(2*a)\n",
        "    x2 = (-b - math.sqrt(delta))/(2*a)\n",
        "    print(\"The roots are real and different\", \"(x1 = \", x1,  \" x2 = \", x2 , \")\")\n",
        "elif delta == 0:\n",
        "    x1 = -b/(2*a)\n",
        "    x2 = -b/(2*a)\n",
        "    print(\"The roots are real and same. x1 = x2 = \", x1)\n",
        "else:\n",
        "    print(\"The roots are imaginary.\")\n"
      ],
      "metadata": {
        "colab": {
          "base_uri": "https://localhost:8080/"
        },
        "id": "ap-CzQPsOL0-",
        "outputId": "b4171a32-e4af-41dd-e823-57640bf34ce9"
      },
      "execution_count": 16,
      "outputs": [
        {
          "output_type": "stream",
          "name": "stdout",
          "text": [
            "The roots are real and different (x1 =  1.0  x2 =  -4.0 )\n"
          ]
        }
      ]
    },
    {
      "cell_type": "code",
      "source": [
        "#define ReLu function\n",
        "def ReLu(x):\n",
        "    if x > 0:\n",
        "        return x\n",
        "    else:\n",
        "        return 0"
      ],
      "metadata": {
        "id": "01g-RZTeSZMF"
      },
      "execution_count": 18,
      "outputs": []
    },
    {
      "cell_type": "code",
      "source": [
        "print(ReLu(x=2))\n",
        "print(ReLu(x=-2))"
      ],
      "metadata": {
        "colab": {
          "base_uri": "https://localhost:8080/"
        },
        "id": "MArQZJnvSqYc",
        "outputId": "3d89651b-79dd-4d0d-ed55-018f9607f703"
      },
      "execution_count": 20,
      "outputs": [
        {
          "output_type": "stream",
          "name": "stdout",
          "text": [
            "2\n",
            "0\n"
          ]
        }
      ]
    },
    {
      "cell_type": "code",
      "source": [
        "# Compare Delta with Zero\n",
        "def solve_quadratic(a, b, c):\n",
        "  delta = b**2 - 4*a*c\n",
        "  if delta > 0:\n",
        "    x1 = (-b + math.sqrt(delta))/(2*a)\n",
        "    x2 = (-b - math.sqrt(delta))/(2*a)\n",
        "    print(\"The roots are real and different\", \"(x1 = \", x1,  \" x2 = \", x2 , \")\")\n",
        "  elif delta == 0:\n",
        "    x1 = -b/(2*a)\n",
        "    x2 = -b/(2*a)\n",
        "    print(\"The roots are real and same. x1 = x2 = \", x1)\n",
        "  else:\n",
        "    print(\"The roots are imaginary.\")\n"
      ],
      "metadata": {
        "id": "ZyaaNXcJUJhh"
      },
      "execution_count": 43,
      "outputs": []
    },
    {
      "cell_type": "code",
      "source": [
        "solve_quadratic(a=1, b=3, c = -4)"
      ],
      "metadata": {
        "colab": {
          "base_uri": "https://localhost:8080/"
        },
        "id": "rWuMsx9GUYjm",
        "outputId": "8599a290-c37e-476b-92ed-57d93af3b50e"
      },
      "execution_count": 46,
      "outputs": [
        {
          "output_type": "stream",
          "name": "stdout",
          "text": [
            "The roots are real and different (x1 =  1.0  x2 =  -4.0 )\n"
          ]
        }
      ]
    }
  ]
}