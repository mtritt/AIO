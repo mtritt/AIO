{
 "cells": [
  {
   "cell_type": "markdown",
   "id": "1932a3af",
   "metadata": {},
   "source": [
    "set , tuple , dictionary \n"
   ]
  },
  {
   "cell_type": "markdown",
   "id": "3302b43f",
   "metadata": {},
   "source": [
    "# set"
   ]
  },
  {
   "cell_type": "code",
   "execution_count": null,
   "id": "a47fee44",
   "metadata": {},
   "outputs": [],
   "source": [
    "# create a set \n",
    "animals = {\"cat\" , \"dog\"  , \"tiger\"}\n",
    "\n",
    "print(type(animals))\n",
    "print(animals)\n",
    "\n",
    "# set comprehension \n",
    "a_set = {i * i for i in range(10)}\n",
    "print(a_set)"
   ]
  },
  {
   "cell_type": "markdown",
   "id": "d89ecddf",
   "metadata": {},
   "source": [
    "# dictionary \n"
   ]
  },
  {
   "cell_type": "code",
   "execution_count": 4,
   "id": "ac94e5c5",
   "metadata": {},
   "outputs": [
    {
     "name": "stdout",
     "output_type": "stream",
     "text": [
      "{'0': 0, '1': 1, '2': 2, '3': 3, '4': 4}\n"
     ]
    }
   ],
   "source": [
    "# create a dictionary comprehension \n",
    "a_dict = {str(i) : i for i in range(5)}\n",
    "print(a_dict) "
   ]
  },
  {
   "cell_type": "markdown",
   "id": "5ec0dbf1",
   "metadata": {},
   "source": [
    "# set in text classification "
   ]
  },
  {
   "cell_type": "code",
   "execution_count": 41,
   "id": "6f34a03d",
   "metadata": {},
   "outputs": [
    {
     "name": "stdout",
     "output_type": "stream",
     "text": [
      "Python is a high-level, interpreted, general-purpose programming language. Its design philosophy emphasizes code readability with the use of significant indentation. Python is dynamically-typed and garbage-collected.  It supports multiple programming paradigms, including structured, object-oriented and functional programming.\n"
     ]
    }
   ],
   "source": [
    "a_file = open(\"/Users/macos/AIO/module 1 /w2/Thứ 6 /5.Friday/code/data.txt\", 'r')\n",
    "data = a_file.read()\n",
    "print(data)\n"
   ]
  },
  {
   "cell_type": "code",
   "execution_count": 42,
   "id": "6060e74e",
   "metadata": {},
   "outputs": [],
   "source": [
    "def standardlize(data) :\n",
    "    data = data.replace('.' , '') \n",
    "    data = data.replace('-' , ' ')\n",
    "    data = data.replace(',' , '')\n",
    "    data = data.lower() # đưa về chũ thường \n",
    "    data = data.split() # cắt chuỗi thành từng phần nhỏ \n",
    "    return data\n"
   ]
  },
  {
   "cell_type": "code",
   "execution_count": 43,
   "id": "dba4b2a4",
   "metadata": {},
   "outputs": [
    {
     "name": "stdout",
     "output_type": "stream",
     "text": [
      "['python', 'is', 'a', 'high', 'level', 'interpreted', 'general', 'purpose', 'programming', 'language', 'its', 'design', 'philosophy', 'emphasizes', 'code', 'readability', 'with', 'the', 'use', 'of', 'significant', 'indentation', 'python', 'is', 'dynamically', 'typed', 'and', 'garbage', 'collected', 'it', 'supports', 'multiple', 'programming', 'paradigms', 'including', 'structured', 'object', 'oriented', 'and', 'functional', 'programming']\n"
     ]
    }
   ],
   "source": [
    "data = standardlize(data)\n",
    "print(data)"
   ]
  },
  {
   "cell_type": "code",
   "execution_count": 48,
   "id": "9aa0d6ff",
   "metadata": {},
   "outputs": [],
   "source": [
    "def vectorization(data) : \n",
    "    data = set(data) \n",
    "    return {value : key for key , value in enumerate(data) } # enumerate dùng để duyệt cả index và data "
   ]
  },
  {
   "cell_type": "code",
   "execution_count": 52,
   "id": "7f6afd51",
   "metadata": {},
   "outputs": [
    {
     "name": "stdout",
     "output_type": "stream",
     "text": [
      "{'is': 0, 'readability': 1, 'programming': 2, 'dynamically': 3, 'high': 4, 'code': 5, 'structured': 6, 'philosophy': 7, 'oriented': 8, 'emphasizes': 9, 'use': 10, 'language': 11, 'and': 12, 'functional': 13, 'the': 14, 'garbage': 15, 'with': 16, 'including': 17, 'design': 18, 'significant': 19, 'collected': 20, 'purpose': 21, 'indentation': 22, 'level': 23, 'typed': 24, 'python': 25, 'general': 26, 'it': 27, 'object': 28, 'a': 29, 'supports': 30, 'paradigms': 31, 'its': 32, 'of': 33, 'interpreted': 34, 'multiple': 35}\n"
     ]
    }
   ],
   "source": [
    "data = vectorization(data)\n",
    "print(data) \n",
    "\n"
   ]
  },
  {
   "cell_type": "code",
   "execution_count": null,
   "id": "b66eaaef",
   "metadata": {},
   "outputs": [],
   "source": [
    "# word = \"python\"\n",
    "# text_to_number = data[word]\n",
    "# print(text_to_number)\n",
    "\n",
    "word = \"python is a programing language\"\n",
    "\n",
    "text_to_number = standardlize(word) \n",
    "text_to_number = vectorization(text_to_number)\n",
    "\n",
    "result = \"\"\n",
    "for key , value in text_to_number : \n",
    "    \n",
    "print(result)"
   ]
  },
  {
   "cell_type": "markdown",
   "id": "4a8b79d0",
   "metadata": {},
   "source": [
    "# image coordinate system "
   ]
  },
  {
   "cell_type": "markdown",
   "id": "37af22cb",
   "metadata": {},
   "source": [
    "# histogram algorithm "
   ]
  },
  {
   "cell_type": "code",
   "execution_count": null,
   "id": "fffb0204",
   "metadata": {},
   "outputs": [],
   "source": [
    "import cv2\n",
    "image_url = \"/Users/macos/AIO/module 1 /w2/Thứ 6 /5.Friday/code/cat_nms.png\"\n",
    "cat_image = cv2.imread(image_url , 0 )\n",
    "# ảnh binary truyền 0 \n",
    "# ảnh màu truyền 1 \n",
    "cv2.imshow(\"cat image\" , cat_image)"
   ]
  },
  {
   "cell_type": "code",
   "execution_count": null,
   "id": "77d16b75",
   "metadata": {},
   "outputs": [],
   "source": [
    "def count_binary_image() : \n",
    "    counts = dict() \n",
    "    cat_image = \"/Users/macos/AIO/module 1 /w2/Thứ 6 /5.Friday/code/binary_cat.png\"\n",
    "    height , weight = cat_image.shape() \n",
    "    for row in range(height) : \n",
    "        for column in range(weight) : \n",
    "            counts[cat_image[row , column]] = counts.get(cat_image[row , column] , 0) + 1\n",
    "            # cat_image[row , column] = cat_image[row][column]\n"
   ]
  }
 ],
 "metadata": {
  "kernelspec": {
   "display_name": "Python (myenv)",
   "language": "python",
   "name": "myenv"
  },
  "language_info": {
   "codemirror_mode": {
    "name": "ipython",
    "version": 3
   },
   "file_extension": ".py",
   "mimetype": "text/x-python",
   "name": "python",
   "nbconvert_exporter": "python",
   "pygments_lexer": "ipython3",
   "version": "3.13.2"
  }
 },
 "nbformat": 4,
 "nbformat_minor": 5
}
