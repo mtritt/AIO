{
 "cells": [
  {
   "cell_type": "markdown",
   "metadata": {},
   "source": [
    "## matplotlib"
   ]
  },
  {
   "cell_type": "code",
   "execution_count": 2,
   "metadata": {},
   "outputs": [
    {
     "data": {
      "image/png": "[encoded data removed]",
      "text/plain": [
       "<Figure size 432x288 with 1 Axes>"
      ]
     },
     "metadata": {
      "needs_background": "light"
     },
     "output_type": "display_data"
    }
   ],
   "source": [
    "# ví dụ 1\n",
    "import matplotlib.pyplot as plt\n",
    "#%matplotlib qt\n",
    "\n",
    "x_data = [0, 1, 2, 3, 4, 5]\n",
    "y_data = [1, 3, 4, 2, 7, 9]\n",
    "\n",
    "plt.plot(x_data, y_data)\n",
    "plt.show()"
   ]
  },
  {
   "cell_type": "code",
   "execution_count": 14,
   "metadata": {},
   "outputs": [
    {
     "name": "stdout",
     "output_type": "stream",
     "text": [
      "[-8.0, -7.9, -7.8, -7.7, -7.6, -7.5, -7.4, -7.3, -7.2, -7.1, -7.0, -6.9, -6.8, -6.7, -6.6, -6.5, -6.4, -6.3, -6.2, -6.1, -6.0, -5.9, -5.8, -5.7, -5.6, -5.5, -5.4, -5.3, -5.2, -5.1, -5.0, -4.9, -4.8, -4.7, -4.6, -4.5, -4.4, -4.3, -4.2, -4.1, -4.0, -3.9, -3.8, -3.7, -3.6, -3.5, -3.4, -3.3, -3.2, -3.1, -3.0, -2.9, -2.8, -2.7, -2.6, -2.5, -2.4, -2.3, -2.2, -2.1, -2.0, -1.9, -1.8, -1.7, -1.6, -1.5, -1.4, -1.3, -1.2, -1.1, -1.0, -0.9, -0.8, -0.7, -0.6, -0.5, -0.4, -0.3, -0.2, -0.1, 0.0, 0.1, 0.2, 0.3, 0.4, 0.5, 0.6, 0.7, 0.8, 0.9, 1.0, 1.1, 1.2, 1.3, 1.4, 1.5, 1.6, 1.7, 1.8, 1.9, 2.0, 2.1, 2.2, 2.3, 2.4, 2.5, 2.6, 2.7, 2.8, 2.9, 3.0, 3.1, 3.2, 3.3, 3.4, 3.5, 3.6, 3.7, 3.8, 3.9, 4.0, 4.1, 4.2, 4.3, 4.4, 4.5, 4.6, 4.7, 4.8, 4.9, 5.0, 5.1, 5.2, 5.3, 5.4, 5.5, 5.6, 5.7, 5.8, 5.9, 6.0, 6.1, 6.2, 6.3, 6.4, 6.5, 6.6, 6.7, 6.8, 6.9, 7.0, 7.1, 7.2, 7.3, 7.4, 7.5, 7.6, 7.7, 7.8, 7.9]\n"
     ]
    }
   ],
   "source": [
    "x_data = list(range(-80, 80, 1))\n",
    "x_data = [v/10.0 for v in x_data]\n",
    "print(x_data)"
   ]
  },
  {
   "cell_type": "code",
   "execution_count": 16,
   "metadata": {},
   "outputs": [
    {
     "name": "stdout",
     "output_type": "stream",
     "text": [
      "[64.0, 62.410000000000004, 60.839999999999996, 59.290000000000006, 57.76, 56.25, 54.760000000000005, 53.29, 51.84, 50.41, 49.0, 47.61000000000001, 46.239999999999995, 44.89, 43.559999999999995, 42.25, 40.96000000000001, 39.69, 38.440000000000005, 37.209999999999994, 36.0, 34.81, 33.64, 32.49, 31.359999999999996, 30.25, 29.160000000000004, 28.09, 27.040000000000003, 26.009999999999998, 25.0, 24.010000000000005, 23.04, 22.090000000000003, 21.159999999999997, 20.25, 19.360000000000003, 18.49, 17.64, 16.81, 16.0, 15.209999999999999, 14.44, 13.690000000000001, 12.96, 12.25, 11.559999999999999, 10.889999999999999, 10.240000000000002, 9.610000000000001, 9.0, 8.41, 7.839999999999999, 7.290000000000001, 6.760000000000001, 6.25, 5.76, 5.289999999999999, 4.840000000000001, 4.41, 4.0, 3.61, 3.24, 2.8899999999999997, 2.5600000000000005, 2.25, 1.9599999999999997, 1.6900000000000002, 1.44, 1.2100000000000002, 1.0, 0.81, 0.6400000000000001, 0.48999999999999994, 0.36, 0.25, 0.16000000000000003, 0.09, 0.04000000000000001, 0.010000000000000002, 0.0, 0.010000000000000002, 0.04000000000000001, 0.09, 0.16000000000000003, 0.25, 0.36, 0.48999999999999994, 0.6400000000000001, 0.81, 1.0, 1.2100000000000002, 1.44, 1.6900000000000002, 1.9599999999999997, 2.25, 2.5600000000000005, 2.8899999999999997, 3.24, 3.61, 4.0, 4.41, 4.840000000000001, 5.289999999999999, 5.76, 6.25, 6.760000000000001, 7.290000000000001, 7.839999999999999, 8.41, 9.0, 9.610000000000001, 10.240000000000002, 10.889999999999999, 11.559999999999999, 12.25, 12.96, 13.690000000000001, 14.44, 15.209999999999999, 16.0, 16.81, 17.64, 18.49, 19.360000000000003, 20.25, 21.159999999999997, 22.090000000000003, 23.04, 24.010000000000005, 25.0, 26.009999999999998, 27.040000000000003, 28.09, 29.160000000000004, 30.25, 31.359999999999996, 32.49, 33.64, 34.81, 36.0, 37.209999999999994, 38.440000000000005, 39.69, 40.96000000000001, 42.25, 43.559999999999995, 44.89, 46.239999999999995, 47.61000000000001, 49.0, 50.41, 51.84, 53.29, 54.760000000000005, 56.25, 57.76, 59.290000000000006, 60.839999999999996, 62.410000000000004]\n"
     ]
    }
   ],
   "source": [
    "y_data = [v*v for v in x_data]\n",
    "print(y_data)"
   ]
  },
  {
   "cell_type": "code",
   "execution_count": null,
   "metadata": {},
   "outputs": [],
   "source": []
  },
  {
   "cell_type": "code",
   "execution_count": 17,
   "metadata": {},
   "outputs": [
    {
     "data": {
      "image/png": "[encoded data removed]",
      "text/plain": [
       "<Figure size 432x288 with 1 Axes>"
      ]
     },
     "metadata": {
      "needs_background": "light"
     },
     "output_type": "display_data"
    }
   ],
   "source": [
    "plt.plot(x_data, y_data)\n",
    "plt.show()"
   ]
  },
  {
   "cell_type": "code",
   "execution_count": null,
   "metadata": {},
   "outputs": [],
   "source": []
  },
  {
   "cell_type": "code",
   "execution_count": null,
   "metadata": {},
   "outputs": [],
   "source": [
    "x_data = list(range(-8, 8, 1))\n",
    "y_data = [v*v for v in x_data]\n",
    "\n",
    "plt.plot(x_data, y_data)\n",
    "plt.show()"
   ]
  },
  {
   "cell_type": "code",
   "execution_count": null,
   "metadata": {},
   "outputs": [],
   "source": []
  },
  {
   "cell_type": "code",
   "execution_count": null,
   "metadata": {},
   "outputs": [],
   "source": []
  },
  {
   "cell_type": "code",
   "execution_count": 18,
   "metadata": {},
   "outputs": [],
   "source": [
    "# ví dụ 2\n",
    "\n",
    "import matplotlib.pyplot as plt\n",
    "%matplotlib qt\n",
    "\n",
    "# hàm linear_space\n",
    "# num should be greater than 1\n",
    "def linear_space(start, stop, num=10):    \n",
    "    step = (stop - start) / num        \n",
    "\n",
    "    result = []\n",
    "    for i in range(num):\n",
    "        result.append(start + step*i)        \n",
    "    return result"
   ]
  },
  {
   "cell_type": "code",
   "execution_count": 19,
   "metadata": {},
   "outputs": [
    {
     "name": "stdout",
     "output_type": "stream",
     "text": [
      "[-8.0, -7.84, -7.68, -7.52, -7.36, -7.2, -7.04, -6.88, -6.72, -6.5600000000000005, -6.4, -6.24, -6.08, -5.92, -5.76, -5.6, -5.4399999999999995, -5.279999999999999, -5.12, -4.96, -4.8, -4.640000000000001, -4.48, -4.32, -4.16, -4.0, -3.84, -3.6799999999999997, -3.5199999999999996, -3.3600000000000003, -3.2, -3.04, -2.88, -2.7199999999999998, -2.5599999999999996, -2.3999999999999995, -2.24, -2.08, -1.92, -1.7599999999999998, -1.5999999999999996, -1.4399999999999995, -1.2800000000000002, -1.12, -0.96, -0.7999999999999998, -0.6399999999999997, -0.47999999999999954, -0.3200000000000003, -0.16000000000000014, 0.0, 0.16000000000000014, 0.3200000000000003, 0.4800000000000004, 0.6400000000000006, 0.8000000000000007, 0.9600000000000009, 1.120000000000001, 1.2799999999999994, 1.4399999999999995, 1.5999999999999996, 1.7599999999999998, 1.92, 2.08, 2.24, 2.4000000000000004, 2.5600000000000005, 2.7200000000000006, 2.880000000000001, 3.040000000000001, 3.200000000000001, 3.3599999999999994, 3.5199999999999996, 3.6799999999999997, 3.84, 4.0, 4.16, 4.32, 4.48, 4.640000000000001, 4.800000000000001, 4.960000000000001, 5.120000000000001, 5.280000000000001, 5.4399999999999995, 5.6, 5.76, 5.92, 6.08, 6.24, 6.4, 6.5600000000000005, 6.720000000000001, 6.880000000000001, 7.040000000000001, 7.200000000000001, 7.359999999999999, 7.52, 7.68, 7.84]\n"
     ]
    }
   ],
   "source": [
    "x_data = linear_space(-8, 8, 100)\n",
    "print(x_data)"
   ]
  },
  {
   "cell_type": "code",
   "execution_count": 20,
   "metadata": {},
   "outputs": [],
   "source": [
    "import matplotlib.pyplot as plt\n",
    "\n",
    "x_data = linear_space(-8, 8, 100)\n",
    "y_data = [v*v for v in x_data]\n",
    "\n",
    "plt.plot(x_data, y_data)\n",
    "plt.ylabel('y values')\n",
    "plt.xlabel('x values')\n",
    "\n",
    "# hiển thị biểu đồ\n",
    "plt.show()"
   ]
  },
  {
   "cell_type": "code",
   "execution_count": null,
   "metadata": {},
   "outputs": [],
   "source": []
  },
  {
   "cell_type": "code",
   "execution_count": null,
   "metadata": {},
   "outputs": [],
   "source": []
  },
  {
   "cell_type": "markdown",
   "metadata": {},
   "source": [
    "## file"
   ]
  },
  {
   "cell_type": "code",
   "execution_count": 21,
   "metadata": {},
   "outputs": [
    {
     "name": "stdout",
     "output_type": "stream",
     "text": [
      "Done\n"
     ]
    }
   ],
   "source": [
    "# list of names\n",
    "names = [1, 2, 3]\n",
    "\n",
    "# open file in write mode\n",
    "with open(r'sales.txt', 'w') as fp:\n",
    "    for item in names:\n",
    "        # write each item on a new line\n",
    "        fp.write(\"%s\\n\" % item)\n",
    "    print('Done')"
   ]
  },
  {
   "cell_type": "code",
   "execution_count": null,
   "metadata": {},
   "outputs": [],
   "source": [
    "# write to a log file\n",
    "with open(r'log.txt', 'w') as fp:\n",
    "    for item in x_data:\n",
    "        # write each item on a new line\n",
    "        fp.write(f'{item}\\n')\n",
    "        \n",
    "    print('Done')"
   ]
  },
  {
   "cell_type": "code",
   "execution_count": null,
   "metadata": {},
   "outputs": [],
   "source": []
  },
  {
   "cell_type": "code",
   "execution_count": null,
   "metadata": {},
   "outputs": [],
   "source": []
  },
  {
   "cell_type": "code",
   "execution_count": null,
   "metadata": {},
   "outputs": [],
   "source": [
    "# write to a log file\n",
    "with open(r'log.txt', 'w') as fp:\n",
    "    for item in data:\n",
    "        # write each item on a new line\n",
    "        fp.write(f'{item}\\n')"
   ]
  },
  {
   "cell_type": "code",
   "execution_count": 24,
   "metadata": {},
   "outputs": [
    {
     "name": "stdout",
     "output_type": "stream",
     "text": [
      "[-8.0, -7.84, -7.68, -7.52, -7.36, -7.2, -7.04, -6.88, -6.72, -6.5600000000000005, -6.4, -6.24, -6.08, -5.92, -5.76, -5.6, -5.4399999999999995, -5.279999999999999, -5.12, -4.96, -4.8, -4.640000000000001, -4.48, -4.32, -4.16, -4.0, -3.84, -3.6799999999999997, -3.5199999999999996, -3.3600000000000003, -3.2, -3.04, -2.88, -2.7199999999999998, -2.5599999999999996, -2.3999999999999995, -2.24, -2.08, -1.92, -1.7599999999999998, -1.5999999999999996, -1.4399999999999995, -1.2800000000000002, -1.12, -0.96, -0.7999999999999998, -0.6399999999999997, -0.47999999999999954, -0.3200000000000003, -0.16000000000000014, 0.0, 0.16000000000000014, 0.3200000000000003, 0.4800000000000004, 0.6400000000000006, 0.8000000000000007, 0.9600000000000009, 1.120000000000001, 1.2799999999999994, 1.4399999999999995, 1.5999999999999996, 1.7599999999999998, 1.92, 2.08, 2.24, 2.4000000000000004, 2.5600000000000005, 2.7200000000000006, 2.880000000000001, 3.040000000000001, 3.200000000000001, 3.3599999999999994, 3.5199999999999996, 3.6799999999999997, 3.84, 4.0, 4.16, 4.32, 4.48, 4.640000000000001, 4.800000000000001, 4.960000000000001, 5.120000000000001, 5.280000000000001, 5.4399999999999995, 5.6, 5.76, 5.92, 6.08, 6.24, 6.4, 6.5600000000000005, 6.720000000000001, 6.880000000000001, 7.040000000000001, 7.200000000000001, 7.359999999999999, 7.52, 7.68, 7.84]\n"
     ]
    }
   ],
   "source": [
    "# read from the log file\n",
    "data = []\n",
    "with open(r'log.txt', 'r') as fp:\n",
    "    lines = fp.readlines()\n",
    "    for line in lines:\n",
    "        line = line.strip('\\n')        \n",
    "        data.append(float(line))\n",
    "        \n",
    "print(data)"
   ]
  },
  {
   "cell_type": "code",
   "execution_count": null,
   "metadata": {},
   "outputs": [],
   "source": []
  },
  {
   "cell_type": "code",
   "execution_count": null,
   "metadata": {},
   "outputs": [],
   "source": [
    "# read from the log file\n",
    "x_data = []\n",
    "with open(r'log.txt', 'r') as fp:\n",
    "    lines = fp.readlines()\n",
    "    for line in lines:\n",
    "        line = line.strip('\\n')        \n",
    "        x_data.append(float(line))\n",
    "        \n",
    "    print('Done!')"
   ]
  },
  {
   "cell_type": "code",
   "execution_count": null,
   "metadata": {},
   "outputs": [],
   "source": [
    "x_data"
   ]
  },
  {
   "cell_type": "code",
   "execution_count": null,
   "metadata": {},
   "outputs": [],
   "source": [
    "import matplotlib.pyplot as plt\n",
    "\n",
    "def computeY(data):\n",
    "    y = []    \n",
    "    for v in data:\n",
    "        y.append(v*v)        \n",
    "    return y\n",
    "\n",
    "x_data = linear_space(-8, 8, 100)\n",
    "y_data = computeY(x_data)\n",
    "\n",
    "plt.plot(x_data, y_data)\n",
    "plt.ylabel('y values')\n",
    "plt.xlabel('x values')\n",
    "\n",
    "# hiển thị biểu đồ\n",
    "plt.show()"
   ]
  },
  {
   "cell_type": "code",
   "execution_count": null,
   "metadata": {},
   "outputs": [],
   "source": []
  },
  {
   "cell_type": "code",
   "execution_count": null,
   "metadata": {},
   "outputs": [],
   "source": []
  },
  {
   "cell_type": "code",
   "execution_count": 28,
   "metadata": {},
   "outputs": [
    {
     "name": "stdout",
     "output_type": "stream",
     "text": [
      "2293383644864\n",
      "[1, 2, 3, 4, 5]\n",
      "2293383644864\n"
     ]
    }
   ],
   "source": [
    "aList = [1, 2, 3]\n",
    "print(id(aList))\n",
    "\n",
    "aList.extend([4, 5])\n",
    "print(aList)\n",
    "print(id(aList))"
   ]
  },
  {
   "cell_type": "code",
   "execution_count": null,
   "metadata": {},
   "outputs": [],
   "source": []
  },
  {
   "cell_type": "code",
   "execution_count": 31,
   "metadata": {},
   "outputs": [
    {
     "name": "stdout",
     "output_type": "stream",
     "text": [
      "2292983163344\n",
      "\n",
      "2292983163184\n",
      "2292983163216\n",
      "2292983163248\n",
      "2292983163344\n"
     ]
    }
   ],
   "source": [
    "aList = [1, 2, 3]\n",
    "n = 6\n",
    "print(id(n))\n",
    "print()\n",
    "\n",
    "aList.append(n)\n",
    "for i in range(len(aList)):\n",
    "    print(id(aList[i]))"
   ]
  },
  {
   "cell_type": "code",
   "execution_count": null,
   "metadata": {},
   "outputs": [],
   "source": []
  },
  {
   "cell_type": "code",
   "execution_count": 32,
   "metadata": {},
   "outputs": [
    {
     "name": "stdout",
     "output_type": "stream",
     "text": [
      "[1, 7, 3]\n",
      "[1, 2, 3]\n"
     ]
    }
   ],
   "source": [
    "l1 = [1, 2, 3]\n",
    "l2 = list(l1)\n",
    "\n",
    "l1[1] = 7\n",
    "\n",
    "print(l1)\n",
    "print(l2)"
   ]
  },
  {
   "cell_type": "code",
   "execution_count": null,
   "metadata": {},
   "outputs": [],
   "source": []
  },
  {
   "cell_type": "code",
   "execution_count": 33,
   "metadata": {},
   "outputs": [
    {
     "name": "stdout",
     "output_type": "stream",
     "text": [
      "2293382426496\n",
      "2293382935808\n"
     ]
    }
   ],
   "source": [
    "l1 = [1, 2, 3]\n",
    "print(id(l1))\n",
    "\n",
    "l1 = l1 + []\n",
    "print(id(l1))"
   ]
  },
  {
   "cell_type": "code",
   "execution_count": null,
   "metadata": {},
   "outputs": [],
   "source": []
  },
  {
   "cell_type": "code",
   "execution_count": null,
   "metadata": {},
   "outputs": [],
   "source": []
  },
  {
   "cell_type": "code",
   "execution_count": 40,
   "metadata": {},
   "outputs": [
    {
     "name": "stdout",
     "output_type": "stream",
     "text": [
      "2293382810448\n",
      "2293370725200\n"
     ]
    }
   ],
   "source": [
    "n1 = 3.0\n",
    "print(id(n1))\n",
    "\n",
    "n2 = 1.0 + 2.0\n",
    "print(id(n2))"
   ]
  },
  {
   "cell_type": "code",
   "execution_count": null,
   "metadata": {},
   "outputs": [],
   "source": []
  },
  {
   "cell_type": "code",
   "execution_count": null,
   "metadata": {},
   "outputs": [],
   "source": []
  },
  {
   "cell_type": "code",
   "execution_count": null,
   "metadata": {},
   "outputs": [],
   "source": []
  },
  {
   "cell_type": "code",
   "execution_count": null,
   "metadata": {},
   "outputs": [],
   "source": []
  }
 ],
 "metadata": {
  "kernelspec": {
   "display_name": "Python 3 (ipykernel)",
   "language": "python",
   "name": "python3"
  },
  "language_info": {
   "codemirror_mode": {
    "name": "ipython",
    "version": 3
   },
   "file_extension": ".py",
   "mimetype": "text/x-python",
   "name": "python",
   "nbconvert_exporter": "python",
   "pygments_lexer": "ipython3",
   "version": "3.9.12"
  }
 },
 "nbformat": 4,
 "nbformat_minor": 2
}
