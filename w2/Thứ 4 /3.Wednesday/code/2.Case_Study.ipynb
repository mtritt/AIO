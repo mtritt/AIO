{
  "cells": [
    {
      "cell_type": "code",
      "execution_count": 2,
      "id": "054ae677",
      "metadata": {
        "colab": {
          "base_uri": "https://localhost:8080/"
        },
        "id": "054ae677",
        "outputId": "f5563486-4a08-4029-ba82-f357e364d33a"
      },
      "outputs": [
        {
          "output_type": "stream",
          "name": "stdout",
          "text": [
            "uct.ac.za\n"
          ]
        }
      ],
      "source": [
        "str = 'From stephen.marquard@uct.ac.za Sat Jan  5 09:14:16 2008'\n",
        "atpos = str.find('@')\n",
        "sppos = str.find(' ',atpos)\n",
        "host = str[atpos+1 : sppos]\n",
        "print(host)"
      ]
    },
    {
      "cell_type": "code",
      "source": [
        "from google.colab import drive\n",
        "drive.mount('/content/drive')"
      ],
      "metadata": {
        "colab": {
          "base_uri": "https://localhost:8080/"
        },
        "id": "o0eTQtHWul0U",
        "outputId": "3decd93d-7abe-4210-baef-a4d097d857e6"
      },
      "id": "o0eTQtHWul0U",
      "execution_count": 1,
      "outputs": [
        {
          "output_type": "stream",
          "name": "stdout",
          "text": [
            "Mounted at /content/drive\n"
          ]
        }
      ]
    },
    {
      "cell_type": "code",
      "execution_count": 3,
      "id": "763de919",
      "metadata": {
        "colab": {
          "base_uri": "https://localhost:8080/"
        },
        "id": "763de919",
        "outputId": "98e0feb4-2698-4fe2-f11c-ccdd4672491d"
      },
      "outputs": [
        {
          "output_type": "stream",
          "name": "stdout",
          "text": [
            "I, like, AIVN, 0x7fc6f1648c80\n",
            "I, like, AIVN, very much, 0x7fc6f1648c80\n"
          ]
        }
      ],
      "source": [
        "words = ['I', 'like', 'AIVN']\n",
        "for w in words:\n",
        "    print(w, end=', ') #Printing the elements from the list cities, separated by a comma & space\n",
        "    \n",
        "print(hex(id(words))) #Printing the location of the object created in the memory address in hexadecimal format\n",
        "\n",
        "words.append('very much') # Adding a new word\n",
        "\n",
        "for w in words:\n",
        "    print(w, end=', ') #Printing the elements from the list cities, separated by a comma & space\n",
        "    \n",
        "print(hex(id(words))) #Printing the location of the object created in the memory address in hexadecimal format\n",
        "\n"
      ]
    },
    {
      "cell_type": "code",
      "execution_count": 4,
      "id": "1c242490",
      "metadata": {
        "colab": {
          "base_uri": "https://localhost:8080/",
          "height": 227
        },
        "id": "1c242490",
        "outputId": "20ed6c2d-4128-44bd-f3bd-8d68e455ad44"
      },
      "outputs": [
        {
          "output_type": "stream",
          "name": "stdout",
          "text": [
            "I like AIVN\n"
          ]
        },
        {
          "output_type": "error",
          "ename": "TypeError",
          "evalue": "ignored",
          "traceback": [
            "\u001b[0;31m---------------------------------------------------------------------------\u001b[0m",
            "\u001b[0;31mTypeError\u001b[0m                                 Traceback (most recent call last)",
            "\u001b[0;32m<ipython-input-4-3ae060760f1f>\u001b[0m in \u001b[0;36m<cell line: 4>\u001b[0;34m()\u001b[0m\n\u001b[1;32m      2\u001b[0m \u001b[0mprint\u001b[0m\u001b[0;34m(\u001b[0m\u001b[0mwords\u001b[0m\u001b[0;34m)\u001b[0m\u001b[0;34m\u001b[0m\u001b[0;34m\u001b[0m\u001b[0m\n\u001b[1;32m      3\u001b[0m \u001b[0;34m\u001b[0m\u001b[0m\n\u001b[0;32m----> 4\u001b[0;31m \u001b[0mwords\u001b[0m\u001b[0;34m[\u001b[0m\u001b[0mlen\u001b[0m\u001b[0;34m(\u001b[0m\u001b[0mwords\u001b[0m\u001b[0;34m)\u001b[0m\u001b[0;34m]\u001b[0m \u001b[0;34m=\u001b[0m \u001b[0;34m'!'\u001b[0m\u001b[0;34m\u001b[0m\u001b[0;34m\u001b[0m\u001b[0m\n\u001b[0m",
            "\u001b[0;31mTypeError\u001b[0m: 'str' object does not support item assignment"
          ]
        }
      ],
      "source": [
        "words = \"I like AIVN\"\n",
        "print(words)\n",
        "\n",
        "words[len(words)] = '!'"
      ]
    },
    {
      "cell_type": "code",
      "execution_count": 5,
      "id": "4735fb62",
      "metadata": {
        "colab": {
          "base_uri": "https://localhost:8080/"
        },
        "id": "4735fb62",
        "outputId": "55876cd9-0d8e-425a-90ee-86fdbeddb848"
      },
      "outputs": [
        {
          "output_type": "stream",
          "name": "stdout",
          "text": [
            "i = 140492973681968\n",
            "  = 140492972711408\n",
            "l = 140492972827440\n",
            "i = 140492973681968\n",
            "k = 140492973023792\n",
            "e = 140492972741552\n",
            "  = 140492972711408\n",
            "a = 140492973173296\n",
            "i = 140492973681968\n",
            "v = 140492973023856\n",
            "n = 140492972798960\n"
          ]
        }
      ],
      "source": [
        "words = \"i like aivn\"\n",
        "\n",
        "for idx in range (0,len(words)):\n",
        "    print (words[idx], \"=\", id(words[idx]))"
      ]
    },
    {
      "cell_type": "code",
      "execution_count": 6,
      "id": "ff269399",
      "metadata": {
        "colab": {
          "base_uri": "https://localhost:8080/"
        },
        "id": "ff269399",
        "outputId": "bce49e98-8ca9-49c1-ac35-d2732a06bb7f"
      },
      "outputs": [
        {
          "output_type": "stream",
          "name": "stdout",
          "text": [
            "id of word_1 =  140492410890864\n",
            "id of word_2 =  140492410890864\n"
          ]
        }
      ],
      "source": [
        "word_1 = \"aivn\"\n",
        "word_2 = \"aivn\"\n",
        "print(\"id of word_1 = \", id(word_1))\n",
        "print(\"id of word_2 = \", id(word_2))"
      ]
    },
    {
      "cell_type": "code",
      "execution_count": 7,
      "id": "6c739c67",
      "metadata": {
        "colab": {
          "base_uri": "https://localhost:8080/"
        },
        "id": "6c739c67",
        "outputId": "a33f3e3d-8a58-4c4c-f210-de45b1d4acb2"
      },
      "outputs": [
        {
          "output_type": "stream",
          "name": "stdout",
          "text": [
            "No of unique items are: 5\n"
          ]
        }
      ],
      "source": [
        "# taking an input list\n",
        "input_list = [1, 2, 2, 5, 8, 4, 4, 8]\n",
        "\n",
        "# taking an input list\n",
        "l1 = []\n",
        "\n",
        "# taking an counter\n",
        "count = 0\n",
        "\n",
        "# traversing the array\n",
        "for item in input_list:\n",
        "\tif item not in l1:\n",
        "\t\tcount += 1\n",
        "\t\tl1.append(item)\n",
        "\n",
        "# printing the output\n",
        "print(\"No of unique items are:\", count)\n"
      ]
    },
    {
      "cell_type": "code",
      "execution_count": 8,
      "id": "101570f9",
      "metadata": {
        "colab": {
          "base_uri": "https://localhost:8080/"
        },
        "id": "101570f9",
        "outputId": "71542656-826c-41f6-d594-921f15d37407"
      },
      "outputs": [
        {
          "output_type": "stream",
          "name": "stdout",
          "text": [
            "No of unique items in the list are: 5\n"
          ]
        }
      ],
      "source": [
        "# importing Counter module\n",
        "from collections import Counter\n",
        "\n",
        "\n",
        "input_list = [1, 2, 2, 5, 8, 4, 4, 8]\n",
        "\n",
        "# creating a list with the keys\n",
        "items = Counter(input_list).keys()\n",
        "print(\"No of unique items in the list are:\", len(items))\n"
      ]
    },
    {
      "cell_type": "code",
      "execution_count": 9,
      "id": "b5f8ef99",
      "metadata": {
        "id": "b5f8ef99"
      },
      "outputs": [],
      "source": [
        "data = [ \"product quality\", \"delivery time\", \"price\", \"quantity\", \"customer service\",  \"product quality\", \"delivery time\", \"price\", \"quantity\", \"customer service\",  \"product quality\", \"delivery time\", \"price\", \"quantity\", \"customer service\", \"product quality\", \"product quality\", \"product quality\",\"product quality\",\"product quality\",\"product quality\",\"product quality\",\"product quality\"]\n",
        "with open(r'data.txt','w') as fp:\n",
        "    for item in data:\n",
        "        fp.write(f'{item}\\n')"
      ]
    },
    {
      "cell_type": "code",
      "execution_count": null,
      "id": "566e2966",
      "metadata": {
        "id": "566e2966"
      },
      "outputs": [],
      "source": [
        "import numpy as np\n",
        "data = []\n",
        "with open(r'data.txt','r') as fp:\n",
        "    line = fp.readlines()\n",
        "    data.append(line)\n",
        "    \n",
        "data = data[0]\n",
        "print(data)\n",
        "\n",
        "import pandas as pd\n",
        "from collections import Counter\n",
        "letter_counts = Counter(data)\n",
        "df = pd.DataFrame.from_dict(letter_counts, orient='index')\n",
        "df.plot(kind='bar')    "
      ]
    },
    {
      "cell_type": "code",
      "source": [
        "pd.Series(data).value_counts(sort=False).plot(kind='bar')"
      ],
      "metadata": {
        "id": "uUu7rLWuwNB9"
      },
      "id": "uUu7rLWuwNB9",
      "execution_count": null,
      "outputs": []
    }
  ],
  "metadata": {
    "kernelspec": {
      "display_name": "Python 3 (ipykernel)",
      "language": "python",
      "name": "python3"
    },
    "language_info": {
      "codemirror_mode": {
        "name": "ipython",
        "version": 3
      },
      "file_extension": ".py",
      "mimetype": "text/x-python",
      "name": "python",
      "nbconvert_exporter": "python",
      "pygments_lexer": "ipython3",
      "version": "3.8.2"
    },
    "colab": {
      "provenance": []
    }
  },
  "nbformat": 4,
  "nbformat_minor": 5
}