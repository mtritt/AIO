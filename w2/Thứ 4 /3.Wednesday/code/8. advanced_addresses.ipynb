{
 "cells": [
  {
   "cell_type": "code",
   "execution_count": 1,
   "metadata": {},
   "outputs": [
    {
     "name": "stdout",
     "output_type": "stream",
     "text": [
      "20\n",
      "20\n",
      "140707105248672\n",
      "140707105248672\n"
     ]
    }
   ],
   "source": [
    "x = 20\n",
    "y = x\n",
    "\n",
    "print(x)\n",
    "print(y)\n",
    "print(id(x))\n",
    "print(id(y))"
   ]
  },
  {
   "cell_type": "code",
   "execution_count": null,
   "metadata": {},
   "outputs": [],
   "source": []
  },
  {
   "cell_type": "code",
   "execution_count": 2,
   "metadata": {},
   "outputs": [
    {
     "name": "stdout",
     "output_type": "stream",
     "text": [
      "10\n",
      "20\n",
      "140707105248352\n",
      "140707105248672\n"
     ]
    }
   ],
   "source": [
    "x = 20\n",
    "y = x\n",
    "x = 10\n",
    "\n",
    "print(x)\n",
    "print(y)\n",
    "print(id(x))\n",
    "print(id(y))"
   ]
  },
  {
   "cell_type": "code",
   "execution_count": null,
   "metadata": {},
   "outputs": [],
   "source": []
  },
  {
   "cell_type": "code",
   "execution_count": 3,
   "metadata": {},
   "outputs": [
    {
     "name": "stdout",
     "output_type": "stream",
     "text": [
      "20\n",
      "140707105248672\n",
      "10\n",
      "140707105248352\n"
     ]
    }
   ],
   "source": [
    "x = 20\n",
    "print(x)\n",
    "print(id(x))\n",
    "\n",
    "x = 10\n",
    "print(x)\n",
    "print(id(x))"
   ]
  },
  {
   "cell_type": "code",
   "execution_count": null,
   "metadata": {},
   "outputs": [],
   "source": []
  },
  {
   "cell_type": "code",
   "execution_count": 6,
   "metadata": {},
   "outputs": [
    {
     "name": "stdout",
     "output_type": "stream",
     "text": [
      "AI\n",
      "1511427632072\n",
      "\n",
      "AI VIETNAM\n",
      "1511427661360\n"
     ]
    }
   ],
   "source": [
    "# immutable \n",
    "\n",
    "x = \"AI\"\n",
    "print(x)\n",
    "print(id(x))\n",
    "print()\n",
    "\n",
    "x = x + \" VIETNAM\"\n",
    "print(x)\n",
    "print(id(x))"
   ]
  },
  {
   "cell_type": "code",
   "execution_count": 8,
   "metadata": {},
   "outputs": [
    {
     "name": "stdout",
     "output_type": "stream",
     "text": [
      "x:  AI\n",
      "y:  AI\n",
      "x address:  1511427633024\n",
      "y address:  1511427633024\n",
      "\n",
      "x:  AI VIETNAM\n",
      "x address:  1511427693808\n",
      "y:  AI\n",
      "y address:  1511427633024\n"
     ]
    }
   ],
   "source": [
    "# immutable \n",
    "\n",
    "x = \"AI\"\n",
    "y = x\n",
    "print('x: ', x)\n",
    "print('y: ', y)\n",
    "print('x address: ', id(x))\n",
    "print('y address: ', id(y))\n",
    "print()\n",
    "\n",
    "x = x + \" VIETNAM\"\n",
    "print('x: ', x)\n",
    "print('x address: ', id(x))\n",
    "print('y: ', y)\n",
    "print('y address: ', id(y))"
   ]
  },
  {
   "cell_type": "code",
   "execution_count": null,
   "metadata": {},
   "outputs": [],
   "source": []
  },
  {
   "cell_type": "code",
   "execution_count": 15,
   "metadata": {},
   "outputs": [
    {
     "name": "stdout",
     "output_type": "stream",
     "text": [
      "a_list:  [1, 2, 3]\n",
      "a_list address:  1511426884232\n"
     ]
    }
   ],
   "source": [
    "# aivietnam\n",
    "\n",
    "a_list = [1, 2, 3]\n",
    "print('a_list: ', a_list)\n",
    "print('a_list address: ', id(a_list))"
   ]
  },
  {
   "cell_type": "code",
   "execution_count": 16,
   "metadata": {},
   "outputs": [
    {
     "name": "stdout",
     "output_type": "stream",
     "text": [
      "a_list:  [1, 2, 3, 4, 5]\n",
      "a_list address:  1511427661128\n"
     ]
    }
   ],
   "source": [
    "a_list = a_list + [4, 5]\n",
    "print('a_list: ', a_list)\n",
    "print('a_list address: ', id(a_list))"
   ]
  },
  {
   "cell_type": "code",
   "execution_count": null,
   "metadata": {},
   "outputs": [],
   "source": []
  },
  {
   "cell_type": "code",
   "execution_count": 31,
   "metadata": {},
   "outputs": [
    {
     "name": "stdout",
     "output_type": "stream",
     "text": [
      "a_list[0] address is 140707105248064\n",
      "a_list[1] address is 140707105248096\n",
      "a_list[2] address is 140707105248128\n",
      "\n",
      "x address is 140707105248064\n",
      "x address is 140707105248096\n",
      "x address is 140707105248128\n"
     ]
    }
   ],
   "source": [
    "# aivietnam\n",
    "\n",
    "a_list = [1, 2, 3]\n",
    "for i in range(3):\n",
    "    print(f'a_list[{i}] address is {id(a_list[i])}')\n",
    "\n",
    "print()\n",
    "for x in a_list:\n",
    "    print(f'x address is {id(x)}')"
   ]
  },
  {
   "cell_type": "code",
   "execution_count": 28,
   "metadata": {},
   "outputs": [
    {
     "name": "stdout",
     "output_type": "stream",
     "text": [
      "a_list[0] address is 140707105248064\n",
      "a_list[1] address is 140707105248096\n",
      "\n",
      "x address is 140707105248064\n",
      "x address after being updated is 140707105248672 \n",
      "\n",
      "x address is 140707105248096\n",
      "x address after being updated is 140707105248672 \n",
      "\n"
     ]
    }
   ],
   "source": [
    "# aivietnam\n",
    "\n",
    "a_list = [1, 2]\n",
    "for i in range(2):\n",
    "    print(f'a_list[{i}] address is {id(a_list[i])}')\n",
    "\n",
    "print()\n",
    "for x in a_list:\n",
    "    print(f'x address is {id(x)}')\n",
    "    \n",
    "    x = 20\n",
    "    print(f'x address after being updated is {id(x)} \\n')"
   ]
  },
  {
   "cell_type": "code",
   "execution_count": 30,
   "metadata": {},
   "outputs": [
    {
     "name": "stdout",
     "output_type": "stream",
     "text": [
      "a_list is [1, 2]\n",
      "a_list is [1, 2]\n"
     ]
    }
   ],
   "source": [
    "# aivietnam\n",
    "\n",
    "a_list = [1, 2]\n",
    "print(f'a_list is {a_list}')\n",
    "\n",
    "for x in a_list:        \n",
    "    x = 20\n",
    "    \n",
    "print(f'a_list is {a_list}')"
   ]
  },
  {
   "cell_type": "code",
   "execution_count": null,
   "metadata": {},
   "outputs": [],
   "source": []
  },
  {
   "cell_type": "code",
   "execution_count": 33,
   "metadata": {},
   "outputs": [
    {
     "name": "stdout",
     "output_type": "stream",
     "text": [
      "value address is 140707105248128\n",
      "number address is 140707105248128\n",
      "result address is 140707105248320\n",
      "9\n"
     ]
    }
   ],
   "source": [
    "# aivietnam\n",
    "\n",
    "def square(number):\n",
    "    result = number*number\n",
    "    \n",
    "    print(f'number address is {id(number)}')\n",
    "    print(f'result address is {id(result)}')\n",
    "    \n",
    "    return result\n",
    "\n",
    "# test the function square\n",
    "value = 3\n",
    "print(f'value address is {id(value)}')\n",
    "\n",
    "print(square(value))"
   ]
  },
  {
   "cell_type": "code",
   "execution_count": 34,
   "metadata": {},
   "outputs": [
    {
     "name": "stdout",
     "output_type": "stream",
     "text": [
      "value address is 140707105248128\n",
      "number address is 140707105248128\n",
      "result address is 140707105248320\n",
      "result address is 140707105248320\n"
     ]
    }
   ],
   "source": [
    "# aivietnam\n",
    "\n",
    "def square(number):\n",
    "    result = number*number\n",
    "    \n",
    "    print(f'number address is {id(number)}')\n",
    "    print(f'result address is {id(result)}')\n",
    "    \n",
    "    return result\n",
    "\n",
    "# test the function square\n",
    "value = 3\n",
    "print(f'value address is {id(value)}')\n",
    "\n",
    "result = square(value)\n",
    "print(f'result address is {id(result)}')"
   ]
  },
  {
   "cell_type": "code",
   "execution_count": 37,
   "metadata": {},
   "outputs": [
    {
     "name": "stdout",
     "output_type": "stream",
     "text": [
      "a_list address is 1511427661128\n",
      "a_list is [1, 2, 3] \n",
      "\n",
      "input_list address is 1511427661128\n",
      "a_list is [1, 2, 3, 4]\n"
     ]
    }
   ],
   "source": [
    "# aivietnam\n",
    "\n",
    "a_list = [1, 2, 3]\n",
    "print(f'a_list address is {id(a_list)}')\n",
    "print(f'a_list is {a_list} \\n')\n",
    "\n",
    "def add(input_list, number):\n",
    "    input_list.append(number)\n",
    "    print(f'input_list address is {id(input_list)}')\n",
    "\n",
    "# test the add function\n",
    "add(a_list, 4)\n",
    "print(f'a_list is {a_list}')"
   ]
  },
  {
   "cell_type": "code",
   "execution_count": 43,
   "metadata": {},
   "outputs": [
    {
     "name": "stdout",
     "output_type": "stream",
     "text": [
      "a_list address is 1511428336776\n",
      "a_list is [1, 2, 3] \n",
      "\n",
      "input_list address is 1511428336776\n",
      "number address is 140707105248160\n",
      "a_list is [1, 2, 3, 4]\n",
      "output_list is [1, 2, 3, 4]\n",
      "output_list address is 1511428336776\n",
      "a_list[3] address is 140707105248160\n"
     ]
    }
   ],
   "source": [
    "# aivietnam\n",
    "\n",
    "a_list = [1, 2, 3]\n",
    "print(f'a_list address is {id(a_list)}')\n",
    "print(f'a_list is {a_list} \\n')\n",
    "\n",
    "def add(input_list, number):\n",
    "    input_list.append(number)\n",
    "    print(f'input_list address is {id(input_list)}')\n",
    "    print(f'number address is {id(number)}')\n",
    "    \n",
    "    return input_list\n",
    "\n",
    "# test the add function\n",
    "output_list = add(a_list, 4)\n",
    "\n",
    "print(f'a_list is {a_list}')\n",
    "print(f'output_list is {output_list}')\n",
    "print(f'output_list address is {id(output_list)}')\n",
    "print(f'a_list[3] address is {id(a_list[3])}')"
   ]
  },
  {
   "cell_type": "code",
   "execution_count": 41,
   "metadata": {},
   "outputs": [
    {
     "name": "stdout",
     "output_type": "stream",
     "text": [
      "number address is 140707105248160\n",
      "a_list is [1, 2, 3, 4]\n",
      "a_list[3] address is 140707105248160\n"
     ]
    }
   ],
   "source": [
    "# aivietnam\n",
    "\n",
    "a_list = [1, 2, 3]\n",
    "\n",
    "def add(input_list, number):\n",
    "    input_list.append(number)\n",
    "    print(f'number address is {id(number)}')\n",
    "\n",
    "# test the add function\n",
    "add(a_list, 4)\n",
    "print(f'a_list is {a_list}')\n",
    "\n",
    "print(f'a_list[3] address is {id(a_list[3])}')"
   ]
  },
  {
   "cell_type": "code",
   "execution_count": 47,
   "metadata": {},
   "outputs": [
    {
     "name": "stdout",
     "output_type": "stream",
     "text": [
      "a_list is [1, 2, 3]\n",
      "a_list is [1, 2, 3, 4]\n"
     ]
    }
   ],
   "source": [
    "# aivietnam\n",
    "\n",
    "a_list = [1, 2, 3]\n",
    "print(f'a_list is {a_list}')\n",
    "\n",
    "def add(a_list, number):\n",
    "    a_list = a_list + [number]\n",
    "    \n",
    "    return a_list\n",
    "\n",
    "# test the add function\n",
    "a_list = add(a_list, 4)\n",
    "print(f'a_list is {a_list}')"
   ]
  },
  {
   "cell_type": "code",
   "execution_count": null,
   "metadata": {},
   "outputs": [],
   "source": []
  },
  {
   "cell_type": "code",
   "execution_count": null,
   "metadata": {},
   "outputs": [],
   "source": [
    "# aivietnam\n",
    "# values have no scope\n",
    "\n"
   ]
  },
  {
   "cell_type": "code",
   "execution_count": null,
   "metadata": {},
   "outputs": [],
   "source": []
  },
  {
   "cell_type": "code",
   "execution_count": 3,
   "metadata": {},
   "outputs": [
    {
     "name": "stdout",
     "output_type": "stream",
     "text": [
      "1\n",
      "4\n",
      "9\n"
     ]
    }
   ],
   "source": [
    "# lambda\n",
    "\n",
    "def power_of_n(n):\n",
    "    return lambda a : a ** n\n",
    "\n",
    "power_of_2 = power_of_n(2)\n",
    "\n",
    "print(power_of_2(1))\n",
    "print(power_of_2(2))\n",
    "print(power_of_2(3))"
   ]
  },
  {
   "cell_type": "code",
   "execution_count": null,
   "metadata": {},
   "outputs": [],
   "source": []
  },
  {
   "cell_type": "code",
   "execution_count": null,
   "metadata": {},
   "outputs": [],
   "source": []
  },
  {
   "cell_type": "code",
   "execution_count": null,
   "metadata": {},
   "outputs": [],
   "source": []
  }
 ],
 "metadata": {
  "kernelspec": {
   "display_name": "Python 3 (ipykernel)",
   "language": "python",
   "name": "python3"
  },
  "language_info": {
   "codemirror_mode": {
    "name": "ipython",
    "version": 3
   },
   "file_extension": ".py",
   "mimetype": "text/x-python",
   "name": "python",
   "nbconvert_exporter": "python",
   "pygments_lexer": "ipython3",
   "version": "3.9.7"
  }
 },
 "nbformat": 4,
 "nbformat_minor": 2
}
