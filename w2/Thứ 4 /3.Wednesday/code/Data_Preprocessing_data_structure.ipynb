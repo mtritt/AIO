{
  "nbformat": 4,
  "nbformat_minor": 0,
  "metadata": {
    "colab": {
      "provenance": []
    },
    "kernelspec": {
      "name": "python3",
      "display_name": "Python 3"
    },
    "language_info": {
      "name": "python"
    }
  },
  "cells": [
    {
      "cell_type": "code",
      "execution_count": null,
      "metadata": {
        "id": "a8TLQ8tXcuAk"
      },
      "outputs": [],
      "source": [
        "# prompt: code for fill missing value by average using List\n",
        "\n",
        "def fill_missing_with_average(data):\n",
        "  missing_values = [i for i, x in enumerate(data) if len(x) == 0]\n",
        "  non_missing_values = [float(x) for x in data if len(x) > 0]\n",
        "  average = sum(non_missing_values) / len(non_missing_values)\n",
        "  print(\"average\", average)\n",
        "  for index in missing_values:\n",
        "    data[index] = average\n",
        "  return data\n"
      ]
    },
    {
      "cell_type": "code",
      "source": [
        "import pandas as pd\n",
        "df = pd.read_csv('data.csv')\n",
        "df.head(10)"
      ],
      "metadata": {
        "id": "JCNszAlqdJ-W"
      },
      "execution_count": null,
      "outputs": []
    },
    {
      "cell_type": "code",
      "source": [
        "data = [1, None, 2, 3, 4, 5, 6, 7, 8, 9]\n",
        "print(fill_missing_with_average(data))"
      ],
      "metadata": {
        "colab": {
          "base_uri": "https://localhost:8080/"
        },
        "id": "Ok59Q9Kudb1y",
        "outputId": "5ef533e5-e7ad-4847-9386-a7d1cd71223a"
      },
      "execution_count": null,
      "outputs": [
        {
          "output_type": "stream",
          "name": "stdout",
          "text": [
            "[1, 5.0, 2, 3, 4, 5, 6, 7, 8, 9]\n"
          ]
        }
      ]
    },
    {
      "cell_type": "code",
      "source": [
        "file_name = \"data.txt\"\n",
        "def read_data(file_name):\n",
        "  with open(file_name, 'r') as file:\n",
        "    data = file.read()\n",
        "    file.close()\n",
        "  return data.split(',')"
      ],
      "metadata": {
        "id": "VEDM5-7Rp2yt"
      },
      "execution_count": null,
      "outputs": []
    },
    {
      "cell_type": "code",
      "source": [
        "data = read_data(file_name)\n",
        "ouput_data = fill_missing_with_average(data)\n",
        "print(ouput_data)\n"
      ],
      "metadata": {
        "colab": {
          "base_uri": "https://localhost:8080/"
        },
        "id": "ljtkcPvir75U",
        "outputId": "b8702ba9-f96b-4e73-a1f5-e412159f28f7"
      },
      "execution_count": null,
      "outputs": [
        {
          "output_type": "stream",
          "name": "stdout",
          "text": [
            "average 5.0\n",
            "['1', 5.0, '2', '3', '4', '5', '6', '7', '8', '9']\n"
          ]
        }
      ]
    },
    {
      "cell_type": "code",
      "source": [
        "# write data to file\n",
        "def write_data(file_name, data):\n",
        "  with open(file_name, 'w') as file:\n",
        "    file.write(','.join(str(x) for x in data))\n",
        "    file.close()"
      ],
      "metadata": {
        "id": "AMctEinCxTWK"
      },
      "execution_count": null,
      "outputs": []
    },
    {
      "cell_type": "code",
      "source": [
        "write_data(\"result.txt\", ouput_data)"
      ],
      "metadata": {
        "id": "NKq67GA6xZn_"
      },
      "execution_count": null,
      "outputs": []
    }
  ]
}