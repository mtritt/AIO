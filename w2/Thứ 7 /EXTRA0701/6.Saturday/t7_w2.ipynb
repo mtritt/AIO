{
 "cells": [
  {
   "cell_type": "markdown",
   "id": "105ba9db",
   "metadata": {},
   "source": [
    "# searching and sorting algorithms \n"
   ]
  },
  {
   "cell_type": "code",
   "execution_count": null,
   "id": "bb48b6e4",
   "metadata": {},
   "outputs": [
    {
     "name": "stdout",
     "output_type": "stream",
     "text": [
      "[1, 2, 3, 4, 5, 6, 7]\n"
     ]
    }
   ],
   "source": [
    "list = [1 , 2 , 3 , 4 , 5 , 6 , 7]\n",
    "res = []\n",
    "while list : \n",
    "    value = min(list) \n",
    "    res.append(value)\n",
    "    list.remove(value)\n",
    "print(res)"
   ]
  },
  {
   "cell_type": "code",
   "execution_count": null,
   "id": "3b642570",
   "metadata": {},
   "outputs": [],
   "source": [
    "# sort(iterable , key = None , reverse = False) \n",
    "\"\"\" key được dùng giống như điều kiện so sánh cmp bên c++ \"\"\" \n",
    "\n",
    "# lambda function \n",
    "function = lambda v : v + 10 \n",
    "print(function(5))\n",
    "\n",
    "list_1 = ['a' , 'b' ,'c' , 'd']\n",
    "list_2 = [1 , 2 , 3 , 6 , 7]\n",
    "\n",
    "list_3 = list(zip(list_1 , list_2))\n",
    "\n",
    "list_4 = sorted(list_3 , key = lambda item : item[1])\n",
    "print(list_4)"
   ]
  },
  {
   "cell_type": "markdown",
   "id": "6c354f0f",
   "metadata": {},
   "source": [
    "# bubble sort algorithm "
   ]
  },
  {
   "cell_type": "code",
   "execution_count": null,
   "id": "14f026de",
   "metadata": {},
   "outputs": [],
   "source": [
    "def bubble_sort(arr) : \n",
    "    n = len(arr)\n",
    "    step = 1 \n",
    "    for i in range(n - 1) : \n",
    "        swapped = False \n",
    "        for j in range(n - i - 1) : \n",
    "            print(\"step : \" , step)\n",
    "            step += 1 \n",
    "            if arr[j] > arr[j + 1] : \n",
    "                swapped = True\n",
    "                arr[j] , arr[j + 1] = arr[j + 1] , arr[j]\n",
    "        if not swapped : return "
   ]
  },
  {
   "cell_type": "markdown",
   "id": "047e2050",
   "metadata": {},
   "source": [
    "# big O notation "
   ]
  },
  {
   "cell_type": "markdown",
   "id": "502b019f",
   "metadata": {},
   "source": [
    "# binary search algorithms \n"
   ]
  },
  {
   "cell_type": "code",
   "execution_count": null,
   "id": "e3315eac",
   "metadata": {},
   "outputs": [],
   "source": [
    "def binary_search(list_data , search_value) :\n",
    "    low = 0 \n",
    "    high = len(list_data) - 1\n",
    "    while low <= high : \n",
    "        mid = (low + high)/2\n",
    "        if list_data[mid] == search_value : \n",
    "            return mid \n",
    "        elif list_data[mid] < search_value : \n",
    "            low = mid + 1 \n",
    "        else : high = mid - 1\n",
    "    return -1  "
   ]
  },
  {
   "cell_type": "code",
   "execution_count": null,
   "id": "9b21c354",
   "metadata": {},
   "outputs": [],
   "source": [
    "def binarySearchRecursive(list_data , low , high , search_value) : \n",
    "    if low <= high :\n",
    "        mid = (low + high)/2 \n",
    "        if list_data[mid] == search_value : \n",
    "            return mid \n",
    "        elif list_data[mid] > search_value : \n",
    "            return binarySearchRecursive(list_data , low , mid - 1 , search_value)\n",
    "        else : \n",
    "            return binarySearchRecursive(list_data , mid + 1 , high, search_value)\n",
    "    else : return -1 "
   ]
  },
  {
   "cell_type": "markdown",
   "id": "11460468",
   "metadata": {},
   "source": [
    "# opimization \n",
    "# using binary search optimization "
   ]
  },
  {
   "cell_type": "code",
   "execution_count": null,
   "id": "6e9d6354",
   "metadata": {},
   "outputs": [],
   "source": [
    "# tìm điểm cực tiểu của 1 hàm số \n",
    "def binary_search_min(f , a , b , tol = 1e - 7):\n",
    "    # tol là độ lệch được chấp nhận \n",
    "    while b - a > tol :  \n",
    "        mid = (a + b)/2 \n",
    "        left_mid = mid - tol \n",
    "        right_mid = mid + tol \n",
    "        f_left_mid = f(left_mid)\n",
    "        f_right_mid = f(right_mid)\n",
    "        if f_left_mid > f_right_mid : \n",
    "            b = mid\n",
    "        else : \n",
    "            a = mid \n",
    "    return (a + b)/2"
   ]
  }
 ],
 "metadata": {
  "kernelspec": {
   "display_name": "Python (myenv)",
   "language": "python",
   "name": "myenv"
  },
  "language_info": {
   "codemirror_mode": {
    "name": "ipython",
    "version": 3
   },
   "file_extension": ".py",
   "mimetype": "text/x-python",
   "name": "python",
   "nbconvert_exporter": "python",
   "pygments_lexer": "ipython3",
   "version": "3.13.2"
  }
 },
 "nbformat": 4,
 "nbformat_minor": 5
}
