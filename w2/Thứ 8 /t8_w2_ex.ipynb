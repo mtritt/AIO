{
 "cells": [
  {
   "cell_type": "markdown",
   "id": "cd979e91",
   "metadata": {},
   "source": [
    "# excercise sunday w2 "
   ]
  },
  {
   "cell_type": "code",
   "execution_count": null,
   "id": "879d2cdd",
   "metadata": {},
   "outputs": [
    {
     "name": "stdout",
     "output_type": "stream",
     "text": [
      "[5, 5, 5, 5, 10, 12, 33, 33]\n",
      "[3, 1, 5, 5]\n"
     ]
    }
   ],
   "source": [
    "def find_max_window(arr, k):\n",
    "    result = []\n",
    "    n = len(arr)\n",
    "    for i in range(n - k + 1):\n",
    "        tmp = arr[i:i + k]             \n",
    "        result.append(max(tmp))\n",
    "    return result \n",
    "\n",
    "# Sửa tên biến 'list' thành 'arr' hoặc tên khác\n",
    "arr = [3, 4, 5, 1, -44, 5, 10, 12, 33, 1]\n",
    "k = 3 \n",
    "print(find_max_window(arr, k))\n",
    "\n",
    "num_list = [3, 1, -2, -1, 5, 4]\n",
    "k = 3\n",
    "print(find_max_window(num_list, k)) "
   ]
  },
  {
   "cell_type": "code",
   "execution_count": null,
   "id": "630e29de",
   "metadata": {},
   "outputs": [],
   "source": [
    "# other solution \n",
    "num_list = [1 , 3 , 5 , 7 , 8 ,3 , 3 , 4 ]\n",
    "k = 2\n",
    "res = []\n",
    "sub_list = []\n",
    "for elm in num_list: \n",
    "    sub_list.append(elm)\n",
    "\n",
    "    if len(sub_list) == k : \n",
    "        res.append(max(sub_list))\n",
    "        del sub_list[0]\n",
    "    \n",
    "print(res)"
   ]
  },
  {
   "cell_type": "code",
   "execution_count": null,
   "id": "6b065046",
   "metadata": {},
   "outputs": [
    {
     "name": "stdout",
     "output_type": "stream",
     "text": [
      "{}\n"
     ]
    }
   ],
   "source": [
    "def count_char(s1):\n",
    "    dict_res = {}\n",
    "    for char in s1 : \n",
    "        if char in dict_res : \n",
    "            dict_res[char] += 1\n",
    "        else : \n",
    "            dict_res[char] = 1\n",
    "    return dict_res \n",
    "\n",
    "print(count_char(\"smiles\"))\n"
   ]
  },
  {
   "cell_type": "code",
   "execution_count": 4,
   "id": "307925b3",
   "metadata": {},
   "outputs": [
    {
     "name": "stdout",
     "output_type": "stream",
     "text": [
      "['do', 'minh', 'tri']\n"
     ]
    }
   ],
   "source": [
    "def process_text(sentences):\n",
    "    sentences = sentences.lower()\n",
    "    sentences = sentences.replace('.' ,'').replace(',','')\n",
    "    word = sentences.split()\n",
    "    return word \n",
    "\n",
    "sen = \"Do Minh Tri\"\n",
    "print(process_text(sen))"
   ]
  },
  {
   "cell_type": "code",
   "execution_count": 2,
   "id": "1543be2b",
   "metadata": {},
   "outputs": [
    {
     "name": "stdout",
     "output_type": "stream",
     "text": [
      "{'he': 1, 'who': 3, 'conquers': 1, 'himself': 1, 'is': 3, 'the': 5, 'mightiest': 1, 'warrior': 1, 'try': 2, 'not': 1, 'to': 3, 'become': 2, 'a': 7, 'man': 6, 'of': 4, 'success': 3, 'but': 1, 'rather': 1, 'value': 1, 'one': 4, 'with': 4, 'courage': 1, 'makes': 1, 'majority': 1, 'secret': 1, 'in': 4, 'life': 2, 'for': 3, 'be': 1, 'ready': 1, 'his': 2, 'opportunity': 1, 'when': 2, 'it': 2, 'comes': 2, 'successful': 2, 'will': 2, 'profit': 1, 'from': 1, 'mistakes': 1, 'and': 1, 'again': 1, 'different': 1, 'way': 1, 'can': 3, 'lay': 1, 'firm': 1, 'foundation': 1, 'bricks': 1, 'others': 1, 'have': 1, 'thrown': 1, 'at': 1, 'him': 1, 'usually': 1, 'those': 1, 'are': 1, 'too': 1, 'busy': 1, 'looking': 1, 'we': 3, 'cannot': 1, 'solve': 1, 'problems': 1, 'kind': 1, 'thinking': 1, 'employed': 1, 'came': 1, 'up': 1, 'them': 1, 'just': 2, 'small': 1, 'positive': 1, 'thought': 1, 'morning': 1, 'change': 1, 'your': 1, 'whole': 1, 'day': 1, 'you': 3, 'get': 2, 'everything': 1, 'want': 2, 'if': 1, 'help': 1, 'enough': 1, 'other': 1, 'people': 1, 'what': 1, 'they': 1}\n",
      "6\n"
     ]
    }
   ],
   "source": [
    "file_path = \"/Users/macos/AIO/module 1 /w2/Thứ 8 /P1_data.txt\"\n",
    "def count_in_file(file_path):\n",
    "    dict_res = {}\n",
    "    with open(file_path , 'r') as file : \n",
    "        lines = file.readlines()\n",
    "        for line in lines : \n",
    "            words = line.strip().split()\n",
    "            for word in words : \n",
    "                clean_word = word.strip().lower() \n",
    "                if clean_word : \n",
    "                    dict_res[clean_word] = dict_res.get(clean_word , 0) + 1\n",
    "    return dict_res \n",
    "\n",
    "print(count_in_file(file_path))\n",
    "res = count_in_file(file_path)\n",
    "print(res['man'])\n",
    "\n",
    "# strip để cắt bỏ kí tự ở 2 đầu hoặc kí tự được chỉ định \n",
    "# split chia 1 chuỗi thành nhiều phần \n",
    "\n"
   ]
  },
  {
   "cell_type": "code",
   "execution_count": 6,
   "id": "881ff684",
   "metadata": {},
   "outputs": [
    {
     "name": "stdout",
     "output_type": "stream",
     "text": [
      "3\n",
      "1\n",
      "3\n"
     ]
    }
   ],
   "source": [
    "def levenshtein_distance(s , t): \n",
    "    # m = độ dài chuỗi source \n",
    "    # t = độ dài chuỗi target\n",
    "    m , n = len(s) , len(t) \n",
    "\n",
    "    # khởi tạo ma trận \n",
    "    dp = [[0] * (n + 1) for _ in range(m + 1)]\n",
    "\n",
    "    for i in range(m + 1): \n",
    "        # đưa chuỗi source về chuỗi rỗng cần xoá i lần \n",
    "        dp[i][0] = i # xoá hết kí tự i từ s \n",
    "    for j in range(n + 1):\n",
    "        # đưa chuỗi rỗng thành target cần thêm j lần \n",
    "        dp[0][j] = j # thêm j vào kí tự s \n",
    "\n",
    "    for i in range(1 , m + 1):\n",
    "        for j in range(1 , n + 1):\n",
    "            if s[i - 1] == t[j - 1]:\n",
    "                cost = 0\n",
    "            else : \n",
    "                cost = 1\n",
    "            dp[i][j] = min(dp[i - 1][j] + 1 , dp[i][j - 1] + 1, dp[i - 1][j - 1] + cost) \n",
    "    return dp[m][n]\n",
    "\n",
    "print(levenshtein_distance(\"kitten\", \"sitting\"))  # Output: 3\n",
    "print(levenshtein_distance(\"yu\", \"you\"))          # Output: 1\n",
    "print(levenshtein_distance(\"hola \", \"hello\"))"
   ]
  },
  {
   "cell_type": "code",
   "execution_count": null,
   "id": "224474b7",
   "metadata": {},
   "outputs": [
    {
     "name": "stdout",
     "output_type": "stream",
     "text": [
      "3\n",
      "1\n",
      "3\n"
     ]
    }
   ],
   "source": [
    "# bài toán quy hoạch động \n",
    "# tìm chi phí nhỏ nhất để chuyển từ source sang target \n",
    "def levenshtein_distance2(source , target):\n",
    "    n = len(source)\n",
    "    m = len(target)\n",
    "\n",
    "    dp = [[0] * (n + 1) for _ in range(m + 1)]\n",
    "\n",
    "    for i in range(n + 1) : \n",
    "        dp[i][0] = i\n",
    "    for j in range(m + 1) : \n",
    "        dp[0][j] = j\n",
    "\n",
    "    for i in range(n + 1) : \n",
    "        for j in range(m + 1): \n",
    "            if source[i - 1] ==  target[j - 1]: \n",
    "                cost = 0\n",
    "            else : \n",
    "                cost = 1\n",
    "            dp[i][j] = min(dp[i - 1][j] + 1 , dp[i][j - 1] + 1 , dp[i - 1][j - 1] + cost)\n",
    "    return dp[n][m]\n",
    "\n",
    "print(levenshtein_distance(\"kitten\", \"sitting\"))  # Output: 3\n",
    "print(levenshtein_distance(\"yu\", \"you\"))          # Output: 1\n",
    "print(levenshtein_distance(\"hola \", \"hello\"))\n"
   ]
  },
  {
   "cell_type": "code",
   "execution_count": 15,
   "id": "9cfb1145",
   "metadata": {},
   "outputs": [
    {
     "name": "stdout",
     "output_type": "stream",
     "text": [
      "True\n"
     ]
    }
   ],
   "source": [
    "def check_the_number(n): \n",
    "    list_of_number = []\n",
    "    res = \"\"\n",
    "    for i in range(1 , 5) : \n",
    "        list_of_number.append(i)\n",
    "    if n in list_of_number : \n",
    "        res = \"True\"\n",
    "    else : \n",
    "        res = \"False\"\n",
    "    return res\n",
    "\n",
    "print(check_the_number(2))"
   ]
  },
  {
   "cell_type": "code",
   "execution_count": 16,
   "id": "c1f4c10f",
   "metadata": {},
   "outputs": [
    {
     "name": "stdout",
     "output_type": "stream",
     "text": [
      "[2, 2, 2, 1, 1]\n"
     ]
    }
   ],
   "source": [
    "def my_function(data , max , min) : \n",
    "    res = []\n",
    "    for i in data : \n",
    "        if i < min : \n",
    "            res.append(min)\n",
    "        elif i > max : \n",
    "            res.append(max)\n",
    "        else : \n",
    "            res.append(i)\n",
    "    return res \n",
    "\n",
    "my_list = [10 , 2 , 5 , 0 , 1]\n",
    "max = 2 \n",
    "min = 1 \n",
    "print(my_function(my_list , max , min))"
   ]
  },
  {
   "cell_type": "code",
   "execution_count": 22,
   "id": "b2e549a2",
   "metadata": {},
   "outputs": [
    {
     "name": "stdout",
     "output_type": "stream",
     "text": [
      "[1, 2, 3, 4, 0, 0]\n"
     ]
    }
   ],
   "source": [
    "def my_function(x , y):\n",
    "    x.extend(y) \n",
    "    return x \n",
    "\n",
    "list_num_1 = [1 , 2]\n",
    "list_num_2 = [3 , 4]\n",
    "list_num_3 = [0 , 0]\n",
    "\n",
    "print(my_function(list_num_1 , my_function(list_num_2 , list_num_3)))\n"
   ]
  },
  {
   "cell_type": "code",
   "execution_count": 25,
   "id": "9f1b6855",
   "metadata": {},
   "outputs": [
    {
     "name": "stdout",
     "output_type": "stream",
     "text": [
      "-1\n"
     ]
    }
   ],
   "source": [
    "def my_function(n):\n",
    "    min_val = 0\n",
    "    for value in n : \n",
    "        if value < min_val :\n",
    "            min_val = value \n",
    "    return min_val   \n",
    "\n",
    "my_list = [1 , 2 , 3, -1]\n",
    "print(my_function(my_list))\n"
   ]
  },
  {
   "cell_type": "code",
   "execution_count": null,
   "id": "3a2daadd",
   "metadata": {},
   "outputs": [],
   "source": []
  },
  {
   "cell_type": "code",
   "execution_count": null,
   "id": "a88a654e",
   "metadata": {},
   "outputs": [],
   "source": []
  }
 ],
 "metadata": {
  "kernelspec": {
   "display_name": "Python (myenv)",
   "language": "python",
   "name": "myenv"
  },
  "language_info": {
   "codemirror_mode": {
    "name": "ipython",
    "version": 3
   },
   "file_extension": ".py",
   "mimetype": "text/x-python",
   "name": "python",
   "nbconvert_exporter": "python",
   "pygments_lexer": "ipython3",
   "version": "3.13.2"
  }
 },
 "nbformat": 4,
 "nbformat_minor": 5
}
