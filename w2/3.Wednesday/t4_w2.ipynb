{
 "cells": [
  {
   "cell_type": "code",
   "execution_count": 24,
   "id": "a862141b",
   "metadata": {},
   "outputs": [
    {
     "name": "stdout",
     "output_type": "stream",
     "text": [
      "AI\n",
      "21\n",
      "31\n",
      "@gmail.com\n",
      "[1, 25, 49, 16, 25]\n",
      "[1, 0, 0, 4, 5]\n",
      "[1, 0, 0, 4, 5]\n",
      "[[3, 30, 21], [0, 16, 81]]\n",
      "[[None, None, None], [None, None, None]]\n",
      "[9]\n"
     ]
    }
   ],
   "source": [
    "name = 'AI'\n",
    "print(name) \n",
    "\n",
    "email = \"From dominhtri2572006@gmail.com dominhtri\"\n",
    "\n",
    "atpos = email.find('@')\n",
    "print(atpos)\n",
    "\n",
    "# tìm vị trí của ' ' bắt đầu từ atpos \n",
    "tmp = email.find(' ' , atpos)\n",
    "print(tmp) \n",
    "\n",
    "result = email[atpos : tmp]\n",
    "\n",
    "print(result) \n",
    "\n",
    "list = [1 , -5 , -7 , 4 , 5 ]\n",
    "\n",
    "def square(list) : \n",
    "    res = [x ** 2 for x in list]\n",
    "    return res \n",
    "\n",
    "print(square(list)) \n",
    "\n",
    "def relu(x) : \n",
    "    res = 0\n",
    "    if x > 0 : res = x \n",
    "    return res \n",
    "\n",
    "def reLuForList(list) : \n",
    "    res = [relu(x) for x in list]\n",
    "    return res \n",
    "\n",
    "\n",
    "def relu2(list) : \n",
    "    res = [x if x > 0 else 0 for x in list]\n",
    "    return res \n",
    " \n",
    "\n",
    "print(reLuForList(list))\n",
    "print(relu2(list)) \n",
    "\n",
    "\n",
    "\n",
    "G = [[3 , 5 , 7] , [4 , 8, 9 ] ]\n",
    "H = [[1 , 6 , 3] , [0 , 2, 9] ]\n",
    "\n",
    "def calc_multi_2matric(matrix1 , matrix2):\n",
    "    row = len(matrix1)\n",
    "    col = len(matrix1[0])\n",
    "\n",
    "    N = [[0] * col for _ in range(row)] # khởi tạo matrix \n",
    "\n",
    "    for r in range(row) : \n",
    "        for c in range(col) : \n",
    "            N[r][c] = matrix1[r][c] * matrix2[r][c]\n",
    "    return N \n",
    "\n",
    "N = calc_multi_2matric(G , H)\n",
    "print(N) \n",
    "\n",
    "\n",
    "rows = len(G)\n",
    "cols = len(G[0])\n",
    "N = [[None] * cols for _ in range(rows)] # tạo ra matrix N có None * cols phần tử mỗi rows \n",
    "print(N)\n",
    "\n",
    "\n",
    "data = [1 , -1 , 9 , -5 , 4]\n",
    "res = [x if x > 0 else 0 for x in data if x > 4]                    \n",
    "print(res)\n",
    "\n",
    "\n"
   ]
  },
  {
   "cell_type": "code",
   "execution_count": null,
   "id": "bf308df5",
   "metadata": {},
   "outputs": [],
   "source": [
    "# create matrix \n",
    "first_row = [1 , 2 , 3 , 4]\n",
    "first_col = [1 , 5 , 9 , 13]\n",
    "\n",
    "rows = len(first_row) \n",
    "cols = len(first_col) \n",
    "\n",
    "matrix = [[0] * cols for _ in range(rows)]\n",
    "# 0 0 0 0 \n",
    "# 0 0 0 0 \n",
    "# 0 0 0 0 \n",
    "print(matrix) \n",
    "\n",
    "for c in range(cols) : \n",
    "    matrix[0][c] = first_row[c]\n",
    "\n",
    "for r in range(rows) : \n",
    "    matrix[r][0] = first_col[r]\n",
    "\n",
    "for r in range(1 , rows) : \n",
    "    for c in range(1 , cols) : \n",
    "        matrix[r][c] = matrix[r - 1][c] + matrix[r - 1][c - 1] + matrix[r][c - 1]\n",
    "\n",
    " "
   ]
  },
  {
   "cell_type": "code",
   "execution_count": 28,
   "id": "696d401d",
   "metadata": {},
   "outputs": [
    {
     "name": "stdout",
     "output_type": "stream",
     "text": [
      "Downloading from https://www.kaggle.com/api/v1/datasets/download/atharvasoundankar/fashion-retail-sales?dataset_version_number=1...\n"
     ]
    },
    {
     "name": "stderr",
     "output_type": "stream",
     "text": [
      "100%|██████████| 30.9k/30.9k [00:00<00:00, 309kB/s]"
     ]
    },
    {
     "name": "stdout",
     "output_type": "stream",
     "text": [
      "Extracting files...\n",
      "Path to dataset files: /Users/macos/.cache/kagglehub/datasets/atharvasoundankar/fashion-retail-sales/versions/1\n"
     ]
    },
    {
     "name": "stderr",
     "output_type": "stream",
     "text": [
      "\n"
     ]
    }
   ],
   "source": [
    "import kagglehub\n",
    "\n",
    "# Download latest version\n",
    "path = kagglehub.dataset_download(\"atharvasoundankar/fashion-retail-sales\")\n",
    "\n",
    "print(\"Path to dataset files:\", path)"
   ]
  }
 ],
 "metadata": {
  "kernelspec": {
   "display_name": "Python (myenv)",
   "language": "python",
   "name": "myenv"
  },
  "language_info": {
   "codemirror_mode": {
    "name": "ipython",
    "version": 3
   },
   "file_extension": ".py",
   "mimetype": "text/x-python",
   "name": "python",
   "nbconvert_exporter": "python",
   "pygments_lexer": "ipython3",
   "version": "3.13.2"
  }
 },
 "nbformat": 4,
 "nbformat_minor": 5
}
